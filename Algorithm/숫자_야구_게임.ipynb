{
  "nbformat": 4,
  "nbformat_minor": 0,
  "metadata": {
    "colab": {
      "name": "숫자 야구 게임",
      "provenance": [],
      "collapsed_sections": [],
      "authorship_tag": "ABX9TyNdaDDk+vw33D8Iso6nb9fA",
      "include_colab_link": true
    },
    "kernelspec": {
      "name": "python3",
      "display_name": "Python 3"
    }
  },
  "cells": [
    {
      "cell_type": "markdown",
      "metadata": {
        "id": "view-in-github",
        "colab_type": "text"
      },
      "source": [
        "<a href=\"https://colab.research.google.com/github/jeongxoo/Study_Python/blob/master/%EC%88%AB%EC%9E%90_%EC%95%BC%EA%B5%AC_%EA%B2%8C%EC%9E%84.ipynb\" target=\"_parent\"><img src=\"https://colab.research.google.com/assets/colab-badge.svg\" alt=\"Open In Colab\"/></a>"
      ]
    },
    {
      "cell_type": "markdown",
      "metadata": {
        "id": "SnBY1yJms3SV"
      },
      "source": [
        "## 숫자 야구 게임\r\n",
        "\r\n",
        "##### 게임 시작 시 자동으로 설정되는 랜덤한 n자리 숫자를 맞추는 게임 \r\n",
        "##### (3 <= n <= 5) / 생성되는 숫자의 각 자리수 숫자는 중복을 허용하지 않음\r\n",
        "##### 같은 위치에 같은 숫자가 있으면 1 Strike 출력\r\n",
        "##### 위치는 다르지만 같은 숫자가 존재하면 1 Ball 출력"
      ]
    },
    {
      "cell_type": "code",
      "metadata": {
        "id": "KqbRO3xhsydF"
      },
      "source": [
        "# 게임 시작 시 랜덤한 n자리수를 생성하는 함수\r\n",
        "import random\r\n",
        "\r\n",
        "def set_number():\r\n",
        "  n = 0 # 몇자리수 게임이 될지 반환하는 변수\r\n",
        "   \r\n",
        "  while (n < 3 or n > 5):  # 입력된 n 값이 범위를 벗어나 있을 경우 계속 반복\r\n",
        "    n = int(input(\"Input N number in 3 ~ 5 -> \")) # 입력 실행\r\n",
        "    \r\n",
        "    if n >= 3 and n <= 5: # 입력값이 정상이라면\r\n",
        "      print(\"Your choice is %d \\n\" %n) \r\n",
        "      break   # 종료\r\n",
        "    else:\r\n",
        "      print(\"Wrong Number, Try again! \\n\")\r\n",
        "  \r\n",
        "  answer = [] # 정답 숫자를 생성하기 위한 리스트\r\n",
        "  current_number = \"0\" # 정답 숫자 내의 중복을 제거하기 위한 변수\r\n",
        "\r\n",
        "  while (len(answer) != n): # 정답 리스트가 다 채워지기 전까지 반복 실행\r\n",
        "    num = random.randint(1, 9) # 1~9 사이의 숫자 랜덤 생성\r\n",
        "    if str(num) not in current_number: # 생성된 숫자가 중복이 아니라면\r\n",
        "      answer.append(num) # 정답 리스트에 해당 숫자를 넣고\r\n",
        "      current_number += str(num) # 중복 확인용 문자열 변수에 해당 숫자 추가\r\n",
        "      #print(num)\r\n",
        "    else: # 중복이라면\r\n",
        "      pass # 패스\r\n",
        "      #print(\"rejected, %d\" %num)\r\n",
        "  \r\n",
        "  print(\"All Number Get Ready!!\")\r\n",
        "  print(\"Now You can start Game~!\")\r\n",
        "  print(\"==========================\")\r\n",
        "\r\n",
        "  return answer, n"
      ],
      "execution_count": null,
      "outputs": []
    },
    {
      "cell_type": "code",
      "metadata": {
        "id": "NLT0psKBvMJC"
      },
      "source": [
        "# n자리 정수를 입력하고 확인하는 함수\r\n",
        "\r\n",
        "def check_answer(answer, n_num):\r\n",
        "  \r\n",
        "  # 입력받은 숫자를 한 자리씩 쪼갠 후 리스트 형태로 바꾸기 위한 사전 변수 작업\r\n",
        "  if n_num == 3:\r\n",
        "    cal_list = [100, 10, 1]\r\n",
        "  elif n_num == 4:\r\n",
        "    cal_list = [1000, 100, 10, 1]\r\n",
        "  else:\r\n",
        "    cal_list = [10000, 1000, 100, 10, 1]\r\n",
        "\r\n",
        "  print(\"Now you can input your choice!\")\r\n",
        "\r\n",
        "  your_answer = [] # 사용자가 입력할 추측 값\r\n",
        "  your_input = 0 # 정답 숫자의 자릿수와 입력한 숫자의 자릿수가 같은지 보기 위한 변ㄴ수\r\n",
        "  trigger_a = your_input // cal_list[0] # 입력한 숫자의 자릿수가 생성된 숫자와 일치하는지 여부\r\n",
        "\r\n",
        "  while ((len(your_answer) != n_num) and ((trigger_a >= 10) or (trigger_a == 0))): # [두 숫자의 자릿수가 같지 않은 경우] and [(입력 숫자가 정답 보다 1자리수 이상 큰 경우) or (입력 숫자가 정답 보다 작은 자릿수인 경우)]\r\n",
        "    your_input = int(input(\"Input nums in range %d -> \" %n_num)) # 입력 추가\r\n",
        "    trigger_a = your_input // cal_list[0] # 트리거 업데이트\r\n",
        "    \r\n",
        "  for num in cal_list: # 입력된 숫자를 한자리씩 분리해서 리스트 형태로 저장하기 위한 반복문\r\n",
        "    split_input = your_input // num # 입력된 숫자를 cal_list값으로 나눈 몫\r\n",
        "    less = your_input % num # 입력된 숫자를 cal_list값으로 나눈 나머지\r\n",
        "    your_input = less # 입력된 숫자를 cal_list값으로 나눈 나머지로 업데이트\r\n",
        "    your_answer.append(split_input) # 입력된 숫자를 cal_list값으로 나눈 몫을 입력한 정답 리스트에 추가\r\n",
        "\r\n",
        "  print(\"\\nYour choice is %s\" %your_answer)\r\n",
        "  print(\"==========================\")\r\n",
        "\r\n",
        "  return your_answer"
      ],
      "execution_count": null,
      "outputs": []
    },
    {
      "cell_type": "code",
      "metadata": {
        "id": "SdC4Y_-T_duO"
      },
      "source": [
        "# 정답 여부를 확인하는 함수\n",
        "\n",
        "def is_it_correct(answer, your_answer, n_num): # 실제 정답, 나의 정답, 몇자리 숫자를 선택했는지\n",
        "  #print(\"Length -> %d \\n\" %n_num)\n",
        "  print(\"Correct answer -> %s\" %answer)\n",
        "  print(\"Your input -> %s\" %your_answer)\n",
        "\n",
        "  correct = False\n",
        "  strike = 0\n",
        "  ball = 0\n",
        "\n",
        "  for i in range(n_num):\n",
        "    for j in range(n_num):\n",
        "      if ((answer[i] == your_answer[j]) and i == j ):  # 두 값이 동일하고, 그 위치까지 동일하다면 스트라이크 \n",
        "        strike += 1\n",
        "      elif ((answer[i] == your_answer[j]) and i != j ): # 두 값이 동일하지만, 그 위치는 동일하지 않다면 볼\n",
        "        ball += 1\n",
        "      else: # 그 외 나머지는 패스\n",
        "        pass\n",
        "\n",
        "  print(\"Strike: %d\" %strike)\n",
        "  print(\"ball: %d\" %ball)\n",
        "\n",
        "\n",
        "  if strike == n_num: # 스트라이크 갯수가 입력한 숫자의 갯수와 같다면 > 모든 수가 일치한다면\n",
        "    correct = True # 트리거 트루\n",
        "  else: # 아니라면 펄스\n",
        "    correct = False\n",
        "    \n",
        "  return correct"
      ],
      "execution_count": null,
      "outputs": []
    },
    {
      "cell_type": "code",
      "metadata": {
        "colab": {
          "base_uri": "https://localhost:8080/"
        },
        "id": "uqd6qhsnvMOl",
        "outputId": "9f7997a3-28c4-4d41-dce3-073ce44986ba"
      },
      "source": [
        "print(\"This is Num_BaseBall Game!\")\r\n",
        "print(\"==========================\")\r\n",
        "\r\n",
        "answer, n_num = set_number()\r\n",
        "\r\n",
        "correct = False # 게임 종료 여부(스트라이크 카운트 == 플레이하고 있는 자릿수(n_num))\r\n",
        "\r\n",
        "while correct == False: # 게임 종료 여부가 거짓이라면 새로운 정답을 입력하고, 그 정답과 실제 정답을 비교하는 함수를 계속해서 실행\r\n",
        "  your_answer = check_answer(answer, n_num)\r\n",
        "  correct = is_it_correct(answer, your_answer, n_num) # 이 함수에서 트루가 반환된다면 반복문 종료 > 게임 종료\r\n",
        "\r\n",
        "print(\"==========================\")\r\n",
        "print(\"End of the Game! Good Bye~\")"
      ],
      "execution_count": null,
      "outputs": [
        {
          "output_type": "stream",
          "text": [
            "This is Num_BaseBall Game!\n",
            "==========================\n",
            "Input N number in 3 ~ 5 -> 3\n",
            "Your choice is 3 \n",
            "\n",
            "All Number Get Ready!!\n",
            "Now You can start Game~!\n",
            "==========================\n",
            "Now you can input your choice!\n",
            "Input nums in range 3 -> 123\n",
            "\n",
            "Your choice is [1, 2, 3]\n",
            "==========================\n",
            "Correct answer -> [8, 1, 7]\n",
            "Your input -> [1, 2, 3]\n",
            "Strike: 0\n",
            "ball: 1\n",
            "Now you can input your choice!\n",
            "Input nums in range 3 -> 817\n",
            "\n",
            "Your choice is [8, 1, 7]\n",
            "==========================\n",
            "Correct answer -> [8, 1, 7]\n",
            "Your input -> [8, 1, 7]\n",
            "Strike: 3\n",
            "ball: 0\n",
            "==========================\n",
            "End of the Game! Good Bye~\n"
          ],
          "name": "stdout"
        }
      ]
    },
    {
      "cell_type": "code",
      "metadata": {
        "id": "ev5nOT0Zi2eI"
      },
      "source": [
        ""
      ],
      "execution_count": null,
      "outputs": []
    }
  ]
}