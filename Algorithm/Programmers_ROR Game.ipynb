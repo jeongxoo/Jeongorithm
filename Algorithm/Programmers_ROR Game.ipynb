{
 "cells": [
  {
   "cell_type": "code",
   "execution_count": 17,
   "metadata": {},
   "outputs": [],
   "source": [
    "import queue\n",
    "from collections import deque\n",
    "from collections import OrderedDict\n",
    "import operator\n",
    "import time\n",
    "import random"
   ]
  },
  {
   "cell_type": "code",
   "execution_count": 18,
   "metadata": {},
   "outputs": [],
   "source": [
    "#---------- display ----------#\n",
    "def display(maps, now):\n",
    "    print(\" \", end=\"\")\n",
    "    print(\"-\"*len(maps)*6)\n",
    "    for i in range(len(maps)):\n",
    "        print(\"|\", end = \" \")\n",
    "        for j in range(len(maps[i])):\n",
    "            if maps[i][j] == 1:\n",
    "                if now == [i, j]:\n",
    "                    print(\"O\", end=\" | \")\n",
    "                else:\n",
    "                    print(\" \", end=\" | \")\n",
    "            else:\n",
    "                print(\"X\", end=\" | \")\n",
    "        print(\"\")\n",
    "    print(\" \", end=\"\")\n",
    "    print(\"-\"*len(maps)*6)"
   ]
  },
  {
   "cell_type": "code",
   "execution_count": 19,
   "metadata": {},
   "outputs": [
    {
     "name": "stdout",
     "output_type": "stream",
     "text": [
      " ------------------------\n",
      "| O |   | X |   |   |   | \n",
      "|   |   |   |   | X |   | \n",
      "|   | X | X | X | X |   | \n",
      "|   |   |   |   |   |   | \n",
      " ------------------------\n"
     ]
    }
   ],
   "source": [
    "display(maps_test2, [0,0])"
   ]
  },
  {
   "cell_type": "code",
   "execution_count": 701,
   "metadata": {},
   "outputs": [],
   "source": [
    "def star(n, m, maps):\n",
    "    now = [0, 0]\n",
    "    before = now\n",
    "    close = []\n",
    "    cnt = 1\n",
    "    opn = {}\n",
    "    while now != [m, n]:\n",
    "        display(maps, now)\n",
    "        cnt += 1\n",
    "        close.append(now)\n",
    "\n",
    "        up = [now[0] - 1 if m >= now[0] - 1 >= 0 else -101, now[1] if n >= now[1] >= 0 else -101]\n",
    "        right = [now[0] if m >= now[0] >= 0 else -101, now[1] + 1 if n >= now[1] + 1 >= 0 else -101]        \n",
    "        down = [now[0] + 1 if m >= now[0] + 1 >= 0 else -101, now[1] if n >= now[1] >= 0 else -101]        \n",
    "        left = [now[0] if m >= now[0] >= 0 else -101, now[1] - 1 if n >= now[1] - 1 >= 0 else -101]\n",
    "        \n",
    "        go = [up, right, down, left]\n",
    "\n",
    "        for direction in go:\n",
    "            distance = 0\n",
    "            if sum(direction) >= 0 and maps[direction[0]][direction[1]] != 0 and direction not in close:\n",
    "                distance = (n - direction[0]) + (m - direction[1])\n",
    "                d = tuple(direction)\n",
    "                opn[d] = [distance + cnt, cnt, distance]\n",
    "\n",
    "        if len(opn) == 0:\n",
    "            return -1\n",
    "        \n",
    "        before = now\n",
    "        sorts = sorted(opn.items(), key=operator.itemgetter(1), reverse=False)\n",
    "        opn.pop(sorts[0][0])\n",
    "        now = list(sorts[0][0])\n",
    "        cnt = sorts[0][1][1]\n",
    "\n",
    "    return cnt"
   ]
  },
  {
   "cell_type": "code",
   "execution_count": 740,
   "metadata": {},
   "outputs": [],
   "source": [
    "def star2(n, m, maps):\n",
    "    now = (0, 0)\n",
    "    close = set()\n",
    "    opened = set()\n",
    "    cnt = 1\n",
    "    while now != (m, n):\n",
    "        cnt += 1\n",
    "        close.add(now)\n",
    "        u,d,l,r = now[0] - 1, now[0] + 1, now[1] - 1, now[1] + 1\n",
    "        \n",
    "        go = set()\n",
    "        if r <= n: go.add((now[0], r))      \n",
    "        if d <= m: go.add((d, now[1]))    \n",
    "        if l >= 0: go.add((now[0], l))\n",
    "        if u >= 0: go.add((u, now[1]))\n",
    "        go -= close\n",
    "        for direction in go:\n",
    "            if maps[direction[0]][direction[1]] != 0:\n",
    "                opened.add((direction, cnt))\n",
    "                \n",
    "        opens = list(opened)\n",
    "        opens = sorted(opens, reverse=True)\n",
    "        print(opens)\n",
    "        if not opens: return -1\n",
    "        now = opens[0][0]\n",
    "        cnt = opens[0][1]\n",
    "        opened.remove(opens.pop(0))\n",
    "\n",
    "    return cnt"
   ]
  },
  {
   "cell_type": "code",
   "execution_count": 219,
   "metadata": {},
   "outputs": [],
   "source": [
    "def check(direction,maps):\n",
    "    if maps[direction[0]][direction[1]] != 0: return True\n",
    "    else: return False"
   ]
  },
  {
   "cell_type": "code",
   "execution_count": 225,
   "metadata": {},
   "outputs": [],
   "source": [
    "# 정답 코드\n",
    "def solutions(maps):\n",
    "    n, m = len(maps[0]) - 1, len(maps) - 1\n",
    "    \n",
    "#     상대방에게 도착할 수 없으면 바로 종료\n",
    "    if maps[m - 1][n - 1] == 0 and maps[m - 1][n] == 0 and maps[m][n - 1] == 0:\n",
    "        return -1\n",
    "    \n",
    "    a = [([0,0], 1)]\n",
    "    que = deque(a)\n",
    "    directions = [\"right\", \"down\", \"left\", \"up\"]\n",
    "    visited = []\n",
    "    maps[0][0] = 0\n",
    "    \n",
    "    while que:\n",
    "        now, cnt = que.popleft()\n",
    "        if now == [m, n]: return cnt\n",
    "        cnt += 1\n",
    "        for di in directions:\n",
    "            if di == \"up\":\n",
    "                if now[1] >= 1: \n",
    "                    direction = [now[0], now[1] - 1]\n",
    "                    if check(direction,maps): \n",
    "                        que.append((direction, cnt))\n",
    "                        maps[direction[0]][direction[1]] = 0\n",
    "            elif di == \"right\":\n",
    "                if now[1] + 1 <= n: \n",
    "                    direction = [now[0], now[1] + 1]\n",
    "                    if check(direction, maps): \n",
    "                        que.append((direction, cnt))\n",
    "                        maps[direction[0]][direction[1]] = 0\n",
    "            elif di == \"left\":\n",
    "                if now[0] >= 1: \n",
    "                    direction = [now[0] - 1, now[1]]\n",
    "                    if check(direction, maps): \n",
    "                        que.append((direction, cnt))\n",
    "                        maps[direction[0]][direction[1]] = 0\n",
    "            else:\n",
    "                if now[0] + 1 <= m: \n",
    "                    direction = [now[0] + 1, now[1]]\n",
    "                    if check(direction, maps): \n",
    "                        que.append((direction, cnt))    \n",
    "                        maps[direction[0]][direction[1]] = 0\n",
    "    \n",
    "        \n",
    "    return -1"
   ]
  },
  {
   "cell_type": "code",
   "execution_count": 226,
   "metadata": {
    "scrolled": false
   },
   "outputs": [
    {
     "name": "stdout",
     "output_type": "stream",
     "text": [
      "-1\n",
      "소요시간 :: 0.000112\n"
     ]
    }
   ],
   "source": [
    "start = time.time()        \n",
    "print(solutions(maps_test))\n",
    "print(\"소요시간 :: %f\" %(time.time() - start))"
   ]
  },
  {
   "cell_type": "code",
   "execution_count": 214,
   "metadata": {},
   "outputs": [],
   "source": [
    "maps1 = [[1,0,1,1,1],[1,0,1,0,1],[1,0,1,1,1],[1,1,1,0,1],[0,0,0,0,1]]\n",
    "maps_test = [[1,1,0,1,1], [1,0,1,0,1], [1,0,1,1,1], [1,1,1,0,1]]\n",
    "maps_test2 = [[1,1,0,1,1,1], [1,1,1,1,0,1], [1,0,0,0,0,1], [1,1,1,1,1,1]]\n",
    "maps2 = [[1,0,1,1,1], [1,0,1,0,1], [1,0,1,1,1], [1,1,1,0,0], [0,0,0,0,1]]"
   ]
  },
  {
   "cell_type": "code",
   "execution_count": 8,
   "metadata": {},
   "outputs": [],
   "source": [
    "maps_test3 = [[1,1,0,1,1], [1,0,1,0,1], [0,0,1,1,1], [1,1,1,0,1]]"
   ]
  },
  {
   "cell_type": "code",
   "execution_count": 630,
   "metadata": {},
   "outputs": [],
   "source": [
    "a = set(((1,2), (2,1), (2,1)))"
   ]
  },
  {
   "cell_type": "code",
   "execution_count": 648,
   "metadata": {},
   "outputs": [],
   "source": [
    "b = set(((2,1), (3,1)))"
   ]
  },
  {
   "cell_type": "code",
   "execution_count": 650,
   "metadata": {},
   "outputs": [
    {
     "data": {
      "text/plain": [
       "{(3, 1)}"
      ]
     },
     "execution_count": 650,
     "metadata": {},
     "output_type": "execute_result"
    }
   ],
   "source": [
    "b - a"
   ]
  },
  {
   "cell_type": "code",
   "execution_count": 645,
   "metadata": {},
   "outputs": [
    {
     "data": {
      "text/plain": [
       "{(2, 1)}"
      ]
     },
     "execution_count": 645,
     "metadata": {},
     "output_type": "execute_result"
    }
   ],
   "source": [
    "b"
   ]
  },
  {
   "cell_type": "code",
   "execution_count": null,
   "metadata": {},
   "outputs": [],
   "source": []
  },
  {
   "cell_type": "code",
   "execution_count": null,
   "metadata": {},
   "outputs": [],
   "source": []
  },
  {
   "cell_type": "code",
   "execution_count": 12,
   "metadata": {},
   "outputs": [],
   "source": [
    "def BFS(n, m, maps):\n",
    "    #     너비우선탐색(선입선출)으로 최단거리 계산\n",
    "#     a-star로 바꿔야하나\n",
    "# 현위치부터 목표까지 거리 + 지금까지 온 거리\n",
    "    num = 0\n",
    "    entire = []\n",
    "    now, visited = [0, 0], []\n",
    "    que = collections.deque([now])\n",
    "#     up, right, down, left\n",
    "    while len(que) != 0:\n",
    "        print(\"큐 :: \", format(que))\n",
    "        now = que.popleft()\n",
    "        display(maps, now)\n",
    "        visited.append(now)\n",
    "        print(\"큐 :: \", format(que))\n",
    "        print(now)\n",
    "        \n",
    "        up = [now[0] - 1, now[1]]\n",
    "        right = [now[0], now[1] + 1]\n",
    "        down = [now[0] + 1, now[1]]\n",
    "        left = [now[0], now[1] - 1]\n",
    "        \n",
    "#         UP\n",
    "        try:\n",
    "            if maps[up[0]][up[1]] == 1 and (up[0] >= 0 and up[1] >= 0):\n",
    "                if up not in visited:\n",
    "                    que.append(up)\n",
    "                    print(\"up\")\n",
    "        except:\n",
    "            pass\n",
    "        try:\n",
    "            if maps[right[0]][right[1]] == 1 and (right[0] >= 0 and right[1] >= 0):\n",
    "                if right not in visited:\n",
    "                    que.append(right)\n",
    "                    print(\"ri\")\n",
    "                    print(right)\n",
    "        except:\n",
    "            pass\n",
    "        \n",
    "        try:\n",
    "            if maps[down[0]][down[1]] == 1 and (down[0] >= 0 and down[1] >= 0):\n",
    "                if down not in visited:\n",
    "                    que.append(down)\n",
    "                    print(\"dw\")\n",
    "        except:\n",
    "            pass\n",
    "        \n",
    "        try:        \n",
    "            if maps[left[0]][left[1]] == 1 and (left[0] >= 0 and left[1] >= 0):\n",
    "                if left not in visited:\n",
    "                    que.append(left)\n",
    "                    print(\"lf\")\n",
    "        except:\n",
    "            pass\n",
    "    \n",
    "        num += 1\n",
    "        print(\"큐 :: \", format(que))\n",
    "        print(\" \")\n",
    "    return num"
   ]
  },
  {
   "cell_type": "code",
   "execution_count": 13,
   "metadata": {},
   "outputs": [],
   "source": [
    "def solution(maps):\n",
    "    answer = 0\n",
    "    n, m = len(maps[0]) - 1, len(maps) - 1\n",
    "    \n",
    "#     상대방에게 도착할 수 없으면 바로 종료\n",
    "    if maps[m - 1][n - 1] == 0 and maps[m - 1][n] == 0 and maps[m][n - 1] == 0:\n",
    "        return -1\n",
    "    \n",
    "    answer = star(n, m, maps)\n",
    "\n",
    "    return answer"
   ]
  },
  {
   "cell_type": "code",
   "execution_count": 300,
   "metadata": {},
   "outputs": [],
   "source": [
    "now = [0, 0]\n",
    "opn = []\n",
    "close = []\n",
    "\n",
    "up = [now[0] - 1 if now[0] - 1 >= 0 else -101, now[1] if now[1] >= 0 else -101]\n",
    "right = [now[0] if now[0] >= 0 else -101, now[1] + 1 if now[1] + 1 >= 0 else -101]        \n",
    "down = [now[0] + 1 if now[0] + 1 >= 0 else -101, now[1] if now[1] >= 0 else -101]        \n",
    "left = [now[0] if now[0] >= 0 else -101, now[1] - 1 if now[1] - 1 >= 0 else -101]"
   ]
  },
  {
   "cell_type": "code",
   "execution_count": 301,
   "metadata": {},
   "outputs": [],
   "source": [
    "a = [up, right, down, left]"
   ]
  },
  {
   "cell_type": "code",
   "execution_count": 302,
   "metadata": {},
   "outputs": [
    {
     "data": {
      "text/plain": [
       "-101"
      ]
     },
     "execution_count": 302,
     "metadata": {},
     "output_type": "execute_result"
    }
   ],
   "source": [
    "sum(up)"
   ]
  },
  {
   "cell_type": "code",
   "execution_count": null,
   "metadata": {},
   "outputs": [],
   "source": []
  }
 ],
 "metadata": {
  "kernelspec": {
   "display_name": "Python 3",
   "language": "python",
   "name": "python3"
  },
  "language_info": {
   "codemirror_mode": {
    "name": "ipython",
    "version": 3
   },
   "file_extension": ".py",
   "mimetype": "text/x-python",
   "name": "python",
   "nbconvert_exporter": "python",
   "pygments_lexer": "ipython3",
   "version": "3.8.5"
  }
 },
 "nbformat": 4,
 "nbformat_minor": 4
}
