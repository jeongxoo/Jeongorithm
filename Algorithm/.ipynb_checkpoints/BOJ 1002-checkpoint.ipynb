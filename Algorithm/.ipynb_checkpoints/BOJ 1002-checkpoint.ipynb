{
 "cells": [
  {
   "cell_type": "markdown",
   "id": "880b74f9",
   "metadata": {},
   "source": [
    "## 아이디어 정리\n",
    "\n",
    "### case 1 : 무한개의 접점\n",
    "- 반지름 길이, 중심점 모두 같으면 무한대의 접점\n",
    "- -1 출력\n",
    "\n",
    "\n",
    "### case 2 : 한 점에서 만나는 경우\n",
    "외접인 경우\n",
    "- 중심 사이 거리 == 두 반지름의 합\n",
    "\n",
    "내접인 경우\n",
    "- 중심 사이 거리 == |r1 - r2|\n",
    "\n",
    "\n",
    "###  case 3 : 접점이 없는 경우\n",
    "- 중심 사이 거리 > r1 + r2\n",
    "- 중심 사이 거리 == 0 and r1 != r2\n",
    "- 중심 사이 거리 < |r1 - r2|\n",
    "\n",
    "###  case 4 : 두 점에서 만나는 경우\n",
    "- 위 케이스를 제외한 나머지 모두"
   ]
  },
  {
   "cell_type": "code",
   "execution_count": 15,
   "id": "7dcbd14f",
   "metadata": {},
   "outputs": [],
   "source": [
    "import math\n",
    "\n",
    "def solution(x1, y1, r1, x2, y2, r2):\n",
    "    if x1 == x2 and y1 == y2 and r1 == r2: return -1\n",
    "    \n",
    "    c_dis = distance(x1, y1, x2, y2)\n",
    "    r_sum = r1 + r2\n",
    "    r_dif = abs(r1 - r2)\n",
    "    \n",
    "    # case 0\n",
    "    if c_dis > r_sum or r_dif > c_dis or (c_dis == 0 and r1 != r2): return 0\n",
    "    elif c_dis == r_sum or c_dis == r_dif: return 1\n",
    "    else: return 2\n",
    "    "
   ]
  },
  {
   "cell_type": "code",
   "execution_count": 14,
   "id": "f5149482",
   "metadata": {},
   "outputs": [],
   "source": [
    "def distance(x1, y1, x2, y2): return math.sqrt((x1 - x2)**2 + (y1 - y2)**2)"
   ]
  },
  {
   "cell_type": "code",
   "execution_count": 22,
   "id": "9258e6cc",
   "metadata": {},
   "outputs": [
    {
     "name": "stdout",
     "output_type": "stream",
     "text": [
      "6\n",
      "0 0 13 40 0 37\n",
      "2\n",
      "0 0 3 0 7 4\n",
      "1\n",
      "1 1 1 1 1 5\n",
      "0\n",
      "-1 8 10 -1 0 10\n",
      "2\n",
      "-6 3 9 -1 7 6\n",
      "2\n",
      "2 9 6 10 9 10\n",
      "2\n"
     ]
    }
   ],
   "source": [
    "count = int(input())\n",
    "\n",
    "for i in range(count):\n",
    "    x1, y1, r1, x2, y2, r2 = map(int, input().split(\" \"))\n",
    "    print(solution(x1, y1, r1, x2, y2, r2))"
   ]
  },
  {
   "cell_type": "code",
   "execution_count": null,
   "id": "2d200b8e",
   "metadata": {},
   "outputs": [],
   "source": []
  }
 ],
 "metadata": {
  "kernelspec": {
   "display_name": "Python 3 (ipykernel)",
   "language": "python",
   "name": "python3"
  },
  "language_info": {
   "codemirror_mode": {
    "name": "ipython",
    "version": 3
   },
   "file_extension": ".py",
   "mimetype": "text/x-python",
   "name": "python",
   "nbconvert_exporter": "python",
   "pygments_lexer": "ipython3",
   "version": "3.9.7"
  }
 },
 "nbformat": 4,
 "nbformat_minor": 5
}
