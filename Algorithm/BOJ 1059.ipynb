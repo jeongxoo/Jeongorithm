{
 "cells": [
  {
   "cell_type": "markdown",
   "id": "b12132a0",
   "metadata": {},
   "source": [
    "# 1059\n",
    "\n",
    "정수 집합 S가 주어졌을때, 다음 조건을 만족하는 구간 [A, B]를 좋은 구간이라고 한다.\n",
    "\n",
    "- A와 B는 양의 정수이고, A < B를 만족한다.\n",
    "- A ≤ x ≤ B를 만족하는 모든 정수 x가 집합 S에 속하지 않는다.\n",
    "\n",
    "집합 S와 n이 주어졌을 때, n을 포함하는 좋은 구간의 개수를 구해보자.\n"
   ]
  },
  {
   "cell_type": "markdown",
   "id": "bf96c609",
   "metadata": {},
   "source": [
    "## 입력\n",
    "첫째 줄에 집합 S의 크기 L이 주어진다. \n",
    "\n",
    "둘째 줄에는 집합에 포함된 정수가 주어진다. \n",
    "\n",
    "셋째 줄에는 n이 주어진다.\n",
    "\n",
    "\n",
    "## 출력\n",
    "\n",
    "첫째 줄에 n을 포함하는 좋은 구간의 개수를 출력한다.\n",
    "\n",
    "\n",
    "```\n",
    "입력\n",
    "4\n",
    "1 7 14 10\n",
    "2\n",
    "````\n",
    "\n",
    "```\n",
    "출력\n",
    "4\n",
    "why? => [2,3], [2,4], [2,5], [2, 6]\n",
    "```\n"
   ]
  },
  {
   "cell_type": "code",
   "execution_count": 147,
   "id": "880cb3fb",
   "metadata": {},
   "outputs": [],
   "source": [
    "def good(S, L, n):\n",
    "    S = [int(s) for s in S]\n",
    "    S.sort()\n",
    "\n",
    "    a, b = 0, 0\n",
    "    if n in S: return a, b\n",
    "    else: a, b = 0, 0\n",
    "        \n",
    "    for i in range(L):\n",
    "        if n > S[i]: continue\n",
    "        else:\n",
    "            if i != 0:\n",
    "                a = S[i - 1]\n",
    "                b = S[i]\n",
    "                break\n",
    "            else:\n",
    "                a = 0\n",
    "                b = S[i]\n",
    "                break\n",
    "    return a,b"
   ]
  },
  {
   "cell_type": "code",
   "execution_count": 102,
   "id": "46dd73f0",
   "metadata": {},
   "outputs": [],
   "source": [
    "def check(a, b, n):\n",
    "    if a == b == 0: return 0\n",
    "\n",
    "    x = a + 1\n",
    "    y = b - 1\n",
    "        \n",
    "    _x = (n - x) + 1 \n",
    "    _y = (y - n) + 1 \n",
    "    \n",
    "    return _x * _y -1"
   ]
  },
  {
   "cell_type": "code",
   "execution_count": 155,
   "id": "d9b3ab11",
   "metadata": {},
   "outputs": [
    {
     "name": "stdout",
     "output_type": "stream",
     "text": [
      "3\n",
      "1 7 10\n",
      "8\n"
     ]
    }
   ],
   "source": [
    "L = int(input())\n",
    "S = input().split()\n",
    "n = int(input())"
   ]
  },
  {
   "cell_type": "code",
   "execution_count": 156,
   "id": "81f57f9b",
   "metadata": {},
   "outputs": [
    {
     "data": {
      "text/plain": [
       "(7, 10)"
      ]
     },
     "execution_count": 156,
     "metadata": {},
     "output_type": "execute_result"
    }
   ],
   "source": [
    "a, b = good(S, L, n)\n",
    "a,b"
   ]
  },
  {
   "cell_type": "code",
   "execution_count": 157,
   "id": "4ed448bf",
   "metadata": {},
   "outputs": [
    {
     "name": "stdout",
     "output_type": "stream",
     "text": [
      "1\n"
     ]
    }
   ],
   "source": [
    "print(check(a,b,n))"
   ]
  },
  {
   "cell_type": "code",
   "execution_count": null,
   "id": "d22c28be",
   "metadata": {},
   "outputs": [],
   "source": []
  }
 ],
 "metadata": {
  "kernelspec": {
   "display_name": "Python 3 (ipykernel)",
   "language": "python",
   "name": "python3"
  },
  "language_info": {
   "codemirror_mode": {
    "name": "ipython",
    "version": 3
   },
   "file_extension": ".py",
   "mimetype": "text/x-python",
   "name": "python",
   "nbconvert_exporter": "python",
   "pygments_lexer": "ipython3",
   "version": "3.9.7"
  }
 },
 "nbformat": 4,
 "nbformat_minor": 5
}
