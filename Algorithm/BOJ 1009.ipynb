{
 "cells": [
  {
   "cell_type": "markdown",
   "id": "b12132a0",
   "metadata": {},
   "source": [
    "# 1009\n",
    "\n",
    "재용이는 최신 컴퓨터 10대를 가지고 있다. 어느 날 재용이는 많은 데이터를 처리해야 될 일이 생겨서 각 컴퓨터에 1번부터 10번까지의 번호를 부여하고, 10대의 컴퓨터가 다음과 같은 방법으로 데이터들을 처리하기로 하였다.\n",
    "\n",
    "1번 데이터는 1번 컴퓨터, 2번 데이터는 2번 컴퓨터, 3번 데이터는 3번 컴퓨터, ... ,\n",
    "\n",
    "10번 데이터는 10번 컴퓨터, 11번 데이터는 1번 컴퓨터, 12번 데이터는 2번 컴퓨터, ...\n",
    "\n",
    "총 데이터의 개수는 항상 a^b개의 형태로 주어진다. 재용이는 문득 마지막 데이터가 처리될 컴퓨터의 번호가 궁금해졌다. 이를 수행해주는 프로그램을 작성하라."
   ]
  },
  {
   "cell_type": "markdown",
   "id": "bf96c609",
   "metadata": {},
   "source": [
    "## 입력\n",
    "입력의 첫 줄에는 테스트 케이스의 개수 T가 주어진다. \n",
    "\n",
    "그 다음 줄부터 각각의 테스트 케이스에 대해 정수 a와 b가 주어진다. (1 ≤ a < 100, 1 ≤ b < 1,000,000)\n",
    "\n",
    "## 출력\n",
    "\n",
    "각 테스트 케이스에 대해 마지막 데이터가 처리되는 컴퓨터의 번호를 출력한다."
   ]
  },
  {
   "cell_type": "code",
   "execution_count": 34,
   "id": "bbd266e9",
   "metadata": {},
   "outputs": [],
   "source": [
    "ans = []\n",
    "def cal(a):\n",
    "    if a == 0:\n",
    "        ans.append([\"10\"])\n",
    "    else:\n",
    "        aa = list(map(lambda x: str(a**x)[-1], [i for i in range(1,5)]))\n",
    "        ans.append(aa)\n",
    "        \n",
    "for i in range(10): cal(i)\n",
    "    \n",
    "answers = []\n",
    "for an in ans:\n",
    "    _aa = sorted(set(an), key = lambda x: an.index(x))\n",
    "    answers.append(_aa)"
   ]
  },
  {
   "cell_type": "code",
   "execution_count": 35,
   "id": "ca2a120a",
   "metadata": {},
   "outputs": [],
   "source": [
    "def ab(a, b):\n",
    "    _a = int(str(a)[-1])\n",
    "    cnt = len(answers[_a])\n",
    "    left = (b % cnt) - 1\n",
    "    print(answers[_a])\n",
    "    print(answers[_a][left])"
   ]
  },
  {
   "cell_type": "code",
   "execution_count": 38,
   "id": "78c810d2",
   "metadata": {},
   "outputs": [
    {
     "name": "stdout",
     "output_type": "stream",
     "text": [
      "5\n",
      "1 6\n",
      "['1']\n",
      "1\n",
      "3 7\n",
      "['3', '9', '7', '1']\n",
      "7\n",
      "6 2\n",
      "['6']\n",
      "6\n",
      "7 100\n",
      "['7', '9', '3', '1']\n",
      "1\n",
      "9 635\n",
      "['9', '1']\n",
      "9\n"
     ]
    }
   ],
   "source": [
    "count = int(input())\n",
    "for _ in range(count):\n",
    "    a,b = input().split()\n",
    "    ab(int(a), int(b))"
   ]
  },
  {
   "cell_type": "code",
   "execution_count": null,
   "id": "d642d227",
   "metadata": {},
   "outputs": [],
   "source": []
  }
 ],
 "metadata": {
  "kernelspec": {
   "display_name": "Python 3 (ipykernel)",
   "language": "python",
   "name": "python3"
  },
  "language_info": {
   "codemirror_mode": {
    "name": "ipython",
    "version": 3
   },
   "file_extension": ".py",
   "mimetype": "text/x-python",
   "name": "python",
   "nbconvert_exporter": "python",
   "pygments_lexer": "ipython3",
   "version": "3.9.7"
  }
 },
 "nbformat": 4,
 "nbformat_minor": 5
}
