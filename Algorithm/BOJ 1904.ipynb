{
 "cells": [
  {
   "cell_type": "markdown",
   "id": "b12132a0",
   "metadata": {},
   "source": [
    "# 1904\n",
    "\n",
    "지원이에게 2진 수열을 가르쳐 주기 위해, 지원이 아버지는 그에게 타일들을 선물해주셨다. \n",
    "\n",
    "그리고 이 각각의 타일들은 0 또는 1이 쓰여 있는 낱장의 타일들이다.\n",
    "\n",
    "어느 날 짓궂은 동주가 지원이의 공부를 방해하기 위해 0이 쓰여진 낱장의 타일들을 붙여서 한 쌍으로 이루어진 00 타일들을 만들었다. \n",
    "\n",
    "결국 현재 1 하나만으로 이루어진 타일 또는 0타일을 두 개 붙인 한 쌍의 00타일들만이 남게 되었다.\n",
    "\n",
    "그러므로 지원이는 타일로 더 이상 크기가 N인 모든 2진 수열을 만들 수 없게 되었다. \n",
    "\n",
    "예를 들어, N=1일 때 1만 만들 수 있고, N=2일 때는 00, 11을 만들 수 있다. \n",
    "(01, 10은 만들 수 없게 되었다.) \n",
    "\n",
    "또한 N=4일 때는 0011, 0000, 1001, 1100, 1111 등 총 5개의 2진 수열을 만들 수 있다.\n",
    "\n",
    "우리의 목표는 N이 주어졌을 때 지원이가 만들 수 있는 모든 가짓수를 세는 것이다. \n",
    "\n",
    "단 타일들은 무한히 많은 것으로 가정하자."
   ]
  },
  {
   "cell_type": "markdown",
   "id": "bf96c609",
   "metadata": {},
   "source": [
    "## 입력\n",
    "첫 번째 줄에 자연수 N이 주어진다. (1 ≤ N ≤ 1,000,000)\n",
    "\n",
    "\n",
    "\n",
    "\n",
    "## 출력\n",
    "\n",
    "첫 번째 줄에 지원이가 만들 수 있는 길이가 N인 모든 2진 수열의 개수를 15746으로 나눈 나머지를 출력한다.\n",
    "\n",
    "\n",
    "\n",
    "```\n",
    "입력\n",
    "4\n",
    "````\n",
    "\n",
    "```\n",
    "출력\n",
    "5\n",
    "```\n"
   ]
  },
  {
   "cell_type": "markdown",
   "id": "733d14eb",
   "metadata": {},
   "source": [
    "```\n",
    "n = 1\n",
    "-> 1\n",
    "1\n",
    "\n",
    "n = 2\n",
    "-> 2\n",
    "00, 11\n",
    "\n",
    "n = 3\n",
    "-> 3\n",
    "001, 100, 111\n",
    "\n",
    "n = 4\n",
    "-> 5\n",
    "0011, 0000, 1001, 1100, 1111\n",
    "\n",
    "n = 5\n",
    "-> 8\n",
    "00111, 10011, 11001, 11100,\n",
    "00001, 00100, 10000, 11111\n",
    "```\n",
    "\n",
    "```\n",
    "n(k) = n(k-1) + n(k-2)\n",
    "???\n",
    "```"
   ]
  },
  {
   "cell_type": "code",
   "execution_count": 7,
   "id": "c9825460",
   "metadata": {},
   "outputs": [],
   "source": [
    "import sys\n",
    "# sys.setrecursionlimit((10**6) + 1)\n",
    "\n",
    "answers = {\"1\":1, \"2\":2}\n",
    "\n",
    "def two(n):\n",
    "    _n = str(n)\n",
    "    if _n in answers.keys(): return answers[_n]\n",
    "    answers[_n] = two(n-1) + two(n-2)\n",
    "    return two(n-1) + two(n-2)"
   ]
  },
  {
   "cell_type": "code",
   "execution_count": 12,
   "id": "548b738b",
   "metadata": {},
   "outputs": [
    {
     "name": "stdout",
     "output_type": "stream",
     "text": [
      "225591516161936330872512695036072072046011324913758190588638866418474627738686883405015987052796968498626\n"
     ]
    }
   ],
   "source": [
    "print(two(500))"
   ]
  },
  {
   "cell_type": "code",
   "execution_count": 14,
   "id": "2482d1b0",
   "metadata": {},
   "outputs": [
    {
     "name": "stdout",
     "output_type": "stream",
     "text": [
      "500\n",
      "1792\n"
     ]
    }
   ],
   "source": [
    "num = int(input())\n",
    "ans = two(num)\n",
    "print(ans % 15746)"
   ]
  },
  {
   "cell_type": "markdown",
   "id": "49ea84b0",
   "metadata": {},
   "source": [
    "# 반복문으로 쓰기"
   ]
  },
  {
   "cell_type": "code",
   "execution_count": 17,
   "id": "33e8ba31",
   "metadata": {},
   "outputs": [
    {
     "name": "stdout",
     "output_type": "stream",
     "text": [
      "10000000\n",
      "3073\n"
     ]
    }
   ],
   "source": [
    "# 배열을 전체를 두지말고 어차피 n을 찾기 위해서 올라가는거니까\n",
    "# 두개 이전과 한개 이전 배열의 형태를 가지고\n",
    "# 그값들을 갱신하면서 타고 올라가는 형태로 수정해봐 정수야\n",
    "\n",
    "answers = [0, 1]\n",
    "\n",
    "def one(n):\n",
    "    ans = (answers[0] + answers[1]) % 15746\n",
    "    answers[0] = answers[1]\n",
    "    answers[1] = ans\n",
    "    return ans\n",
    "    \n",
    "num = int(input())\n",
    "\n",
    "for i in range(num): result = one(i)\n",
    "    \n",
    "print(result)"
   ]
  },
  {
   "cell_type": "code",
   "execution_count": null,
   "id": "6bf55aa0",
   "metadata": {},
   "outputs": [],
   "source": []
  },
  {
   "cell_type": "code",
   "execution_count": null,
   "id": "9ce40b54",
   "metadata": {},
   "outputs": [],
   "source": []
  }
 ],
 "metadata": {
  "kernelspec": {
   "display_name": "Python 3 (ipykernel)",
   "language": "python",
   "name": "python3"
  },
  "language_info": {
   "codemirror_mode": {
    "name": "ipython",
    "version": 3
   },
   "file_extension": ".py",
   "mimetype": "text/x-python",
   "name": "python",
   "nbconvert_exporter": "python",
   "pygments_lexer": "ipython3",
   "version": "3.9.7"
  }
 },
 "nbformat": 4,
 "nbformat_minor": 5
}
