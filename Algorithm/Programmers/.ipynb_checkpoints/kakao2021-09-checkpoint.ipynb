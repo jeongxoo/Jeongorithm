{
 "cells": [
  {
   "cell_type": "code",
   "execution_count": 1,
   "metadata": {},
   "outputs": [],
   "source": [
    "import time"
   ]
  },
  {
   "cell_type": "markdown",
   "metadata": {},
   "source": [
    "## 카카오 2번 문제"
   ]
  },
  {
   "cell_type": "markdown",
   "metadata": {},
   "source": [
    "### 2-1번 풀이"
   ]
  },
  {
   "cell_type": "code",
   "execution_count": 26,
   "metadata": {},
   "outputs": [],
   "source": [
    "def change(n, k):\n",
    "    temp = \"\"\n",
    "    while n > 0 :\n",
    "        temp = str(n % k) + temp\n",
    "        n //= k\n",
    "    return str(temp)\n",
    "\n",
    "def is_prime(num):\n",
    "    try: num = int(num)\n",
    "    except: return False\n",
    "    cnt = 2\n",
    "    nums = []\n",
    "    while num != 1:\n",
    "        if num % cnt == 0:\n",
    "            num /= cnt\n",
    "            nums.append(cnt)\n",
    "            continue\n",
    "        cnt += 1\n",
    "\n",
    "    if len(nums) == 1: return True\n",
    "    else: return False\n",
    "    \n",
    "def make_prime(end):\n",
    "    nums = []\n",
    "    check = []\n",
    "    for i in range(end + 1):\n",
    "        check.append(True)\n",
    "        nums.append(i)\n",
    "\n",
    "    j = 2\n",
    "    for i in range(2, len(nums)):\n",
    "        for n in range(j, (nums[i] * j) + 1):\n",
    "            j = n\n",
    "            try:\n",
    "                check[nums[i] * n] = False\n",
    "            except:\n",
    "                break\n",
    "    return check\n",
    "    \n",
    "def kakao2_1(n, k):\n",
    "    answer = 0\n",
    "    temp = change(n, k)\n",
    "    nums = temp.split(\"0\")\n",
    "    nums = [int(n) if n != \"\" else 1 for n in nums]\n",
    "#     print(nums)\n",
    "    nums.sort()\n",
    "#     print(nums)\n",
    "    for i in range(len(nums)):\n",
    "        if nums[i] != \"1\":\n",
    "            min_num = int(nums[i])\n",
    "            break\n",
    "    max_num = int(nums[-1]) + 1\n",
    "    check = make_prime(max_num)\n",
    "    \n",
    "    prime_nums = []\n",
    "\n",
    "    \n",
    "    for i in range(min_num, max_num):\n",
    "        if check[i] == True and i != 1:\n",
    "            prime_nums.append(i)\n",
    "\n",
    "    for n in nums:\n",
    "        if n in prime_nums:\n",
    "            if \"0\" not in str(n): \n",
    "                answer += 1\n",
    "    return answer"
   ]
  },
  {
   "cell_type": "code",
   "execution_count": 27,
   "metadata": {},
   "outputs": [
    {
     "name": "stdout",
     "output_type": "stream",
     "text": [
      "2\n",
      "3\n"
     ]
    }
   ],
   "source": [
    "print(kakao2_1(110011, 10))\n",
    "print(kakao2_1(437674, 3))"
   ]
  },
  {
   "cell_type": "markdown",
   "metadata": {},
   "source": [
    "### 2-2번 풀이"
   ]
  },
  {
   "cell_type": "code",
   "execution_count": 31,
   "metadata": {},
   "outputs": [],
   "source": [
    "def change(n, k):\n",
    "    temp = \"\"\n",
    "    while n > 0 :\n",
    "        temp = str(n % k) + temp\n",
    "        n //= k\n",
    "    return str(temp)\n",
    "\n",
    "def is_prime(num):\n",
    "    cnt = 2\n",
    "    nums = []\n",
    "    while num != 1:\n",
    "        if num % cnt == 0:\n",
    "            num /= cnt\n",
    "            nums.append(cnt)\n",
    "            continue\n",
    "        cnt += 1\n",
    "\n",
    "    if len(nums) == 1: return True\n",
    "    else: return False\n",
    "    \n",
    "    \n",
    "def kakao2_2(n, k):\n",
    "    answer = 0\n",
    "    temp = change(n, k)\n",
    "    nums = temp.split(\"0\")\n",
    "\n",
    "    new_num = []\n",
    "    for n in nums:\n",
    "        if n != \"\":\n",
    "            new_num.append(n)\n",
    "    new_num.sort()\n",
    "    \n",
    "    for n in new_num:\n",
    "        if is_prime(int(n)):\n",
    "            if \"0\" not in n: \n",
    "                answer += 1\n",
    "    return answer"
   ]
  },
  {
   "cell_type": "code",
   "execution_count": 32,
   "metadata": {},
   "outputs": [
    {
     "name": "stdout",
     "output_type": "stream",
     "text": [
      "2\n",
      "3\n"
     ]
    }
   ],
   "source": [
    "print(kakao2_2(110011, 10))\n",
    "print(kakao2_2(437674, 3))"
   ]
  },
  {
   "cell_type": "markdown",
   "metadata": {},
   "source": [
    "## 카카오 3번 문제"
   ]
  },
  {
   "cell_type": "code",
   "execution_count": 8,
   "metadata": {},
   "outputs": [],
   "source": [
    "# 기본 시간, 기본 요금, 단위 시간, 단위 요금\n",
    "fees = [180, 5000, 10, 600]\n",
    "records = [\"05:34 5961 IN\", \"06:00 0000 IN\", \"06:34 0000 OUT\", \n",
    "           \"07:59 5961 OUT\", \"07:59 0148 IN\", \"18:59 0000 IN\",\n",
    "           \"19:09 0148 OUT\", \"22:59 5961 IN\", \"23:00 5961 OUT\"]\n",
    "\n",
    "fees2 = [120, 0, 60, 591]\n",
    "records2 = [\"16:00 3961 IN\", \"16:00 0202 IN\", \"18:00 3961 OUT\", \n",
    "           \"18:00 0202 OUT\", \"23:58 3961 IN\"]\n",
    "\n",
    "fees3 = [1, 461, 1, 10]\n",
    "records3 = [\"00:00 1234 IN\"]"
   ]
  },
  {
   "cell_type": "code",
   "execution_count": 9,
   "metadata": {},
   "outputs": [],
   "source": [
    "def fee_count(infos, fees):\n",
    "    fee = fees[1]\n",
    "    if len(infos) % 2 != 0:\n",
    "        infos.append([\"23:59\", \"OUT\"])\n",
    "        \n",
    "    parking_time = 0\n",
    "    for i in range(0, len(infos), 2):\n",
    "        o_time = infos[i+1][0].split(\":\")\n",
    "        i_time = infos[i][0].split(\":\")\n",
    "        \n",
    "        o_time = (int(o_time[0])) * 60 + int(o_time[1])\n",
    "        i_time = (int(i_time[0])) * 60 + int(i_time[1])\n",
    "        parking_time += o_time - i_time\n",
    "    \n",
    "    if parking_time > fees[0]:\n",
    "        parking_time -= fees[0]\n",
    "        fee += ((parking_time // fees[2]) * fees[3])\n",
    "        if parking_time % fees[2] != 0: fee += fees[3]\n",
    "    \n",
    "    return fee\n",
    "\n",
    "\n",
    "def solution(fees, records):\n",
    "    answer = []\n",
    "    seperate = [r.split(\" \") for r in records]\n",
    "    car_io_info = {}\n",
    "    car_id = set()\n",
    "    \n",
    "    for s in seperate:\n",
    "        car_io_info[s[1]] = []\n",
    "        car_id.add(s[1])\n",
    "    \n",
    "    for s in seperate: car_io_info[s[1]].append([s[0], s[2]])\n",
    "    \n",
    "    car_id = list(car_id)\n",
    "    car_id.sort()\n",
    "    \n",
    "    for id in car_id:\n",
    "        fee = fee_count(car_io_info[id], fees)\n",
    "        answer.append(fee)\n",
    "    \n",
    "    return answer"
   ]
  },
  {
   "cell_type": "code",
   "execution_count": 10,
   "metadata": {},
   "outputs": [
    {
     "name": "stdout",
     "output_type": "stream",
     "text": [
      "[14600, 34400, 5000]\n",
      "[0, 591]\n",
      "[14841]\n"
     ]
    }
   ],
   "source": [
    "print(kakao3(fees, records))\n",
    "print(kakao3(fees2, records2))\n",
    "print(kakao3(fees3, records3))"
   ]
  },
  {
   "cell_type": "markdown",
   "metadata": {},
   "source": [
    "## 카카오 4번 문제"
   ]
  },
  {
   "cell_type": "code",
   "execution_count": 34,
   "metadata": {},
   "outputs": [],
   "source": [
    "n = 5\n",
    "info = [2,1,1,1,0,0,0,0,0,0,0]\n",
    "\n",
    "n2 = 1\n",
    "info2 = [1,0,0,0,0,0,0,0,0,0,0]\n",
    "\n",
    "n3 = 9\n",
    "info3 = [0,0,1,2,0,1,1,1,1,1,1]\n",
    "\n",
    "n4 = 10\n",
    "info4 = [0,0,0,0,0,0,0,0,3,4,3]"
   ]
  },
  {
   "cell_type": "code",
   "execution_count": 35,
   "metadata": {},
   "outputs": [],
   "source": [
    "def kakao4(n, info):\n",
    "    answer = []\n",
    "    if info[0] == n: return [-1]\n",
    "    # 가장 큰 점수차로 이기는건 어피치가 쏜 모든 화살 중 높은 점수 순서로 라이언이 가져가거나\n",
    "    # 10점부터 라이언이 먹는다는걸 가정하고 배분을 해보는거지\n",
    "    # 상대보다 더 많은 점수의 갯수를 가지면서 상대보다 높은 점수의 갯수를 많이 보유\n",
    "    # 재귀적으로 접근, 10점을 가장 많이 보유, 9점을 가장 많이 보유, \n",
    "    nn = n\n",
    "    point = 10\n",
    "    count = 0\n",
    "    ryian = []\n",
    "    for i in range(len(info)):\n",
    "        if info[i] + 1 <= n:\n",
    "            n -= info[i] + 1\n",
    "            ryian.append(info[i] + 1)\n",
    "        else:\n",
    "            ryian.append(0)\n",
    "                    \n",
    "    print(ryian, sum(ryian))\n",
    "    print(info, nn)\n",
    "            \n",
    "    \n",
    "    \n",
    "    \n",
    "    return answer"
   ]
  },
  {
   "cell_type": "code",
   "execution_count": 36,
   "metadata": {},
   "outputs": [
    {
     "name": "stdout",
     "output_type": "stream",
     "text": [
      "[3, 2, 0, 0, 0, 0, 0, 0, 0, 0, 0] 5\n",
      "[2, 1, 1, 1, 0, 0, 0, 0, 0, 0, 0] 5\n",
      "[]\n"
     ]
    }
   ],
   "source": [
    "print(kakao4(n, info))"
   ]
  },
  {
   "cell_type": "code",
   "execution_count": 37,
   "metadata": {},
   "outputs": [
    {
     "name": "stdout",
     "output_type": "stream",
     "text": [
      "[-1]\n"
     ]
    }
   ],
   "source": [
    "print(kakao4(n2, info2))"
   ]
  },
  {
   "cell_type": "code",
   "execution_count": 38,
   "metadata": {},
   "outputs": [
    {
     "name": "stdout",
     "output_type": "stream",
     "text": [
      "[1, 1, 2, 3, 1, 0, 0, 0, 0, 0, 0] 8\n",
      "[0, 0, 1, 2, 0, 1, 1, 1, 1, 1, 1] 9\n",
      "[]\n"
     ]
    }
   ],
   "source": [
    "print(kakao4(n3, info3))"
   ]
  },
  {
   "cell_type": "code",
   "execution_count": 39,
   "metadata": {},
   "outputs": [
    {
     "name": "stdout",
     "output_type": "stream",
     "text": [
      "[1, 1, 1, 1, 1, 1, 1, 1, 0, 0, 0] 8\n",
      "[0, 0, 0, 0, 0, 0, 0, 0, 3, 4, 3] 10\n",
      "[]\n"
     ]
    }
   ],
   "source": [
    "print(kakao4(n4, info4))"
   ]
  },
  {
   "cell_type": "markdown",
   "metadata": {},
   "source": [
    "## 카카오 6번 문제"
   ]
  },
  {
   "cell_type": "code",
   "execution_count": 40,
   "metadata": {},
   "outputs": [],
   "source": [
    "board = [[5,5,5,5,5], [5,5,5,5,5], [5,5,5,5,5], [5,5,5,5,5]]\n",
    "skill = [[1,0,0,3,4,4], [1,2,0,2,3,2], [2,1,0,3,1,2], [1,0,1,3,3,1]]\n",
    "\n",
    "board2 = [[1,2,3], [4,5,6], [7,8,9]]\n",
    "skill2 = [[1,1,1,2,2,4], [1,0,0,1,1,2], [2,2,0,2,0,100]]"
   ]
  },
  {
   "cell_type": "code",
   "execution_count": 41,
   "metadata": {},
   "outputs": [],
   "source": [
    "def solution(board, skill):\n",
    "    answer = 0\n",
    "    n = len(board[0])\n",
    "    m = len(board)\n",
    "    # i가 열, j가 행\n",
    "    info_sum = {(i,j):0 for i in range(m) for j in range(n)}\n",
    "    \n",
    "    for key in skill:\n",
    "        for k,v in info_sum.items():\n",
    "            if key[2] <= k[1] <= key[4] and key[1] <= k[0] <= key[3]:\n",
    "                if key[0] == 1:\n",
    "                    info_sum[k] += (key[5] * -1)\n",
    "                else:\n",
    "                    info_sum[k] += key[5]\n",
    "    \n",
    "    for k,v in info_sum.items():\n",
    "        board[k[0]][k[1]] += v\n",
    "        if board[k[0]][k[1]] > 0: answer += 1\n",
    "\n",
    "    return answer"
   ]
  },
  {
   "cell_type": "code",
   "execution_count": 42,
   "metadata": {
    "scrolled": false
   },
   "outputs": [
    {
     "name": "stdout",
     "output_type": "stream",
     "text": [
      "10\n",
      "소요 시간 :: 0.000350\n"
     ]
    }
   ],
   "source": [
    "start = time.time()\n",
    "print(kakao6(board, skill))\n",
    "print(\"소요 시간 :: %f\" % (time.time() - start))"
   ]
  },
  {
   "cell_type": "code",
   "execution_count": 43,
   "metadata": {},
   "outputs": [
    {
     "name": "stdout",
     "output_type": "stream",
     "text": [
      "6\n",
      "소요 시간 :: 0.000322\n"
     ]
    }
   ],
   "source": [
    "start = time.time()\n",
    "print(kakao6(board2, skill2))\n",
    "print(\"소요 시간 :: %f\" % (time.time() - start))"
   ]
  },
  {
   "cell_type": "code",
   "execution_count": null,
   "metadata": {},
   "outputs": [],
   "source": []
  },
  {
   "cell_type": "code",
   "execution_count": null,
   "metadata": {},
   "outputs": [],
   "source": []
  }
 ],
 "metadata": {
  "kernelspec": {
   "display_name": "Python 3 (ipykernel)",
   "language": "python",
   "name": "python3"
  },
  "language_info": {
   "codemirror_mode": {
    "name": "ipython",
    "version": 3
   },
   "file_extension": ".py",
   "mimetype": "text/x-python",
   "name": "python",
   "nbconvert_exporter": "python",
   "pygments_lexer": "ipython3",
   "version": "3.9.7"
  }
 },
 "nbformat": 4,
 "nbformat_minor": 4
}
