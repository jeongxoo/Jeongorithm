{
 "cells": [
  {
   "cell_type": "markdown",
   "id": "fe3305ea",
   "metadata": {},
   "source": [
    "## 감소하는 수\n",
    "- 321, 950"
   ]
  },
  {
   "cell_type": "code",
   "execution_count": 28,
   "id": "50c0273c",
   "metadata": {},
   "outputs": [
    {
     "name": "stdout",
     "output_type": "stream",
     "text": [
      "987654321\n",
      "True\n"
     ]
    }
   ],
   "source": [
    "num = int(input())\n",
    "num = [int(i) for i in str(num)]\n",
    "print(numbers(num))"
   ]
  },
  {
   "cell_type": "code",
   "execution_count": 98,
   "id": "a52a1fc0",
   "metadata": {},
   "outputs": [],
   "source": [
    "def numbers(num):\n",
    "    num = [int(i) for i in str(num)]\n",
    "    if len(num) == len(set(num)) and num == sorted(num, reverse=True): return True \n",
    "    else: return False\n",
    "\n",
    "answers = [i if numbers(i) else -1 for i in range(9876543211)]\n",
    "answers = list(filter(lambda x: x >= 0, answers))"
   ]
  },
  {
   "cell_type": "code",
   "execution_count": 78,
   "id": "b46d3ab4",
   "metadata": {},
   "outputs": [
    {
     "name": "stdout",
     "output_type": "stream",
     "text": [
      "500000\n",
      "-1\n"
     ]
    }
   ],
   "source": [
    "n = int(input())\n",
    "try: print(answers[n])\n",
    "except: print(-1)"
   ]
  },
  {
   "cell_type": "code",
   "execution_count": 99,
   "id": "4d269d4c",
   "metadata": {},
   "outputs": [
    {
     "data": {
      "text/plain": [
       "1012"
      ]
     },
     "execution_count": 99,
     "metadata": {},
     "output_type": "execute_result"
    }
   ],
   "source": [
    "len(answers)"
   ]
  },
  {
   "cell_type": "code",
   "execution_count": 106,
   "id": "794b11cf",
   "metadata": {},
   "outputs": [
    {
     "data": {
      "text/plain": [
       "98764320"
      ]
     },
     "execution_count": 106,
     "metadata": {},
     "output_type": "execute_result"
    }
   ],
   "source": [
    "answers[1000]"
   ]
  },
  {
   "cell_type": "code",
   "execution_count": 97,
   "id": "528f463f",
   "metadata": {},
   "outputs": [
    {
     "data": {
      "text/plain": [
       "True"
      ]
     },
     "execution_count": 97,
     "metadata": {},
     "output_type": "execute_result"
    }
   ],
   "source": [
    "2**26 < 100000000"
   ]
  },
  {
   "cell_type": "code",
   "execution_count": null,
   "id": "7909a39b",
   "metadata": {},
   "outputs": [],
   "source": [
    "aaa = [i for i in range(9876543211)]"
   ]
  },
  {
   "cell_type": "code",
   "execution_count": null,
   "id": "b43f100d",
   "metadata": {},
   "outputs": [],
   "source": []
  }
 ],
 "metadata": {
  "kernelspec": {
   "display_name": "Python 3 (ipykernel)",
   "language": "python",
   "name": "python3"
  },
  "language_info": {
   "codemirror_mode": {
    "name": "ipython",
    "version": 3
   },
   "file_extension": ".py",
   "mimetype": "text/x-python",
   "name": "python",
   "nbconvert_exporter": "python",
   "pygments_lexer": "ipython3",
   "version": "3.9.7"
  }
 },
 "nbformat": 4,
 "nbformat_minor": 5
}
