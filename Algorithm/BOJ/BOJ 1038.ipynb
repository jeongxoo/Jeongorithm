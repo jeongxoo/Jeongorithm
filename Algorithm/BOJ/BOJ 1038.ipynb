{
 "cells": [
  {
   "cell_type": "markdown",
   "id": "fe3305ea",
   "metadata": {},
   "source": [
    "## 감소하는 수\n",
    "- 321, 950"
   ]
  },
  {
   "cell_type": "markdown",
   "id": "83c3a122",
   "metadata": {},
   "source": [
    "## 정답"
   ]
  },
  {
   "cell_type": "code",
   "execution_count": 56,
   "id": "6b35c558",
   "metadata": {},
   "outputs": [
    {
     "name": "stdout",
     "output_type": "stream",
     "text": [
      "1022\n",
      "9876543210\n"
     ]
    }
   ],
   "source": [
    "from collections import deque\n",
    "\n",
    "answers = deque()\n",
    "setting = deque([i for i in range(10)])\n",
    "\n",
    "while len(setting) != 0:\n",
    "    _n = setting.popleft()\n",
    "    answers.insert(0, _n)\n",
    "    for i in range(int(str(_n)[0]) + 1, 10):\n",
    "        setting.insert(0, int(str(i) + str(_n)))\n",
    "\n",
    "answers = sorted(answers)\n",
    "\n",
    "n = int(input())\n",
    "try: print(answers[n])\n",
    "except: print(-1)"
   ]
  },
  {
   "cell_type": "markdown",
   "id": "b7b93533",
   "metadata": {},
   "source": [
    "## 시간초과 뜸 // 오래걸림"
   ]
  },
  {
   "cell_type": "code",
   "execution_count": 57,
   "id": "7c6bee33",
   "metadata": {},
   "outputs": [],
   "source": [
    "def numbers(num):\n",
    "    num = [int(i) for i in str(num)]\n",
    "    if len(num) == len(set(num)) and num == sorted(num, reverse=True): return True \n",
    "    else: return False\n",
    "\n",
    "answers = [i if numbers(i) else -1 for i in range(100000)]\n",
    "answers = list(filter(lambda x: x >= 0, answers))"
   ]
  },
  {
   "cell_type": "code",
   "execution_count": 60,
   "id": "f030e0d8",
   "metadata": {},
   "outputs": [
    {
     "name": "stdout",
     "output_type": "stream",
     "text": [
      "500\n",
      "87631\n"
     ]
    }
   ],
   "source": [
    "n = int(input())\n",
    "try: print(answers[n])\n",
    "except: print(-1)"
   ]
  },
  {
   "cell_type": "code",
   "execution_count": null,
   "id": "91506c9b",
   "metadata": {},
   "outputs": [],
   "source": []
  }
 ],
 "metadata": {
  "kernelspec": {
   "display_name": "Python 3 (ipykernel)",
   "language": "python",
   "name": "python3"
  },
  "language_info": {
   "codemirror_mode": {
    "name": "ipython",
    "version": 3
   },
   "file_extension": ".py",
   "mimetype": "text/x-python",
   "name": "python",
   "nbconvert_exporter": "python",
   "pygments_lexer": "ipython3",
   "version": "3.9.7"
  }
 },
 "nbformat": 4,
 "nbformat_minor": 5
}
