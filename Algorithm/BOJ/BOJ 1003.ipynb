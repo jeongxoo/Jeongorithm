{
 "cells": [
  {
   "cell_type": "markdown",
   "id": "b12132a0",
   "metadata": {},
   "source": [
    "# 1003\n",
    "\n",
    "다음 소스는 N번째 피보나치 수를 구하는 C++ 함수이다.\n",
    "```\n",
    "int fibonacci(int n) {\n",
    "    if (n == 0) {\n",
    "        printf(\"0\");\n",
    "        return 0;\n",
    "    } else if (n == 1) {\n",
    "        printf(\"1\");\n",
    "        return 1;\n",
    "    } else {\n",
    "        return fibonacci(n‐1) + fibonacci(n‐2);\n",
    "    }\n",
    "}\n",
    "```\n",
    "\n",
    "fibonacci(3)을 호출하면 다음과 같은 일이 일어난다.\n",
    "   - fibonacci(3)은 fibonacci(2)와 fibonacci(1) (첫 번째 호출)을 호출한다.\n",
    "   - fibonacci(2)는 fibonacci(1) (두 번째 호출)과 fibonacci(0)을 호출한다.\n",
    "   - 두 번째 호출한 fibonacci(1)은 1을 출력하고 1을 리턴한다.\n",
    "   - fibonacci(0)은 0을 출력하고, 0을 리턴한다.\n",
    "   - fibonacci(2)는 fibonacci(1)과 fibonacci(0)의 결과를 얻고, 1을 리턴한다.\n",
    "   - 첫 번째 호출한 fibonacci(1)은 1을 출력하고, 1을 리턴한다.\n",
    "   - fibonacci(3)은 fibonacci(2)와 fibonacci(1)의 결과를 얻고, 2를 리턴한다.\n",
    "   \n",
    "   \n",
    "1은 2번 출력되고, 0은 1번 출력된다. N이 주어졌을 때, fibonacci(N)을 호출했을 때, 0과 1이 각각 몇 번 출력되는지 구하는 프로그램을 작성하시오."
   ]
  },
  {
   "cell_type": "markdown",
   "id": "bf96c609",
   "metadata": {},
   "source": [
    "## 입력\n",
    "첫째 줄에 테스트 케이스의 개수 T가 주어진다.\n",
    "\n",
    "각 테스트 케이스는 한 줄로 이루어져 있고, N이 주어진다. N은 40보다 작거나 같은 자연수 또는 0이다.\n",
    "\n",
    "\n",
    "## 출력\n",
    "\n",
    "각 테스트 케이스마다 0이 출력되는 횟수와 1이 출력되는 횟수를 공백으로 구분해서 출력한다.\n",
    "\n",
    "```\n",
    "입력   ->   출력\n",
    " 3\n",
    " 0    ->   1 0\n",
    " 1    ->   0 1\n",
    " 3    ->   1 2\n",
    "```"
   ]
  },
  {
   "cell_type": "markdown",
   "id": "04cb802a",
   "metadata": {},
   "source": [
    "## 답"
   ]
  },
  {
   "cell_type": "code",
   "execution_count": 15,
   "id": "71241ba9",
   "metadata": {},
   "outputs": [],
   "source": [
    "answers = [[1,0],[0,1]]\n",
    "def _b(n):\n",
    "    l = len(answers)\n",
    "    if l >= n + 1:\n",
    "        return answers[n]\n",
    "    else:\n",
    "        nn = _b(n - 1) + _b(n - 2)\n",
    "        _ans = [sum(nn[0::2]), sum(nn[1::2])]\n",
    "        answers.append(_ans)\n",
    "\n",
    "for i in range(41): _b(i)"
   ]
  },
  {
   "cell_type": "code",
   "execution_count": 16,
   "id": "6690ecc9",
   "metadata": {},
   "outputs": [
    {
     "name": "stdout",
     "output_type": "stream",
     "text": [
      "2\n",
      "6\n",
      "5 8\n",
      "22\n",
      "10946 17711\n"
     ]
    }
   ],
   "source": [
    "count = int(input())\n",
    "for _ in range(count):\n",
    "    i = int(input())\n",
    "    print(answers[i][0], answers[i][1])"
   ]
  },
  {
   "cell_type": "markdown",
   "id": "f2f87ba4",
   "metadata": {},
   "source": [
    "## 테스트용 Original DP"
   ]
  },
  {
   "cell_type": "code",
   "execution_count": 17,
   "id": "26b09083",
   "metadata": {},
   "outputs": [
    {
     "name": "stdout",
     "output_type": "stream",
     "text": [
      "1\n",
      "1\n",
      "0 1\n"
     ]
    }
   ],
   "source": [
    "answers = [[1,0],[0,1]]\n",
    "def dp(n):\n",
    "    if n == 0:\n",
    "        return answers[0]\n",
    "    elif n == 1:\n",
    "        return answers[1]\n",
    "    else:\n",
    "        answers[n - 1]\n",
    "    \n",
    "    l = len(answers)\n",
    "    if l >= n + 1:\n",
    "        return answers[n]\n",
    "    else:\n",
    "        nn = _b(n - 1) + _b(n - 2)\n",
    "        jj = [sum(nn[0::2]), sum(nn[1::2])]\n",
    "        answers.append(jj)\n",
    "        \n",
    "            \n",
    "for i in range(41):\n",
    "    _b(i)\n",
    "    \n",
    "count = int(input())\n",
    "for _ in range(count):\n",
    "    i = int(input())\n",
    "    print(answers[i][0], answers[i][1])"
   ]
  },
  {
   "cell_type": "code",
   "execution_count": null,
   "id": "80ccfa5a",
   "metadata": {},
   "outputs": [],
   "source": []
  }
 ],
 "metadata": {
  "kernelspec": {
   "display_name": "Python 3 (ipykernel)",
   "language": "python",
   "name": "python3"
  },
  "language_info": {
   "codemirror_mode": {
    "name": "ipython",
    "version": 3
   },
   "file_extension": ".py",
   "mimetype": "text/x-python",
   "name": "python",
   "nbconvert_exporter": "python",
   "pygments_lexer": "ipython3",
   "version": "3.9.7"
  }
 },
 "nbformat": 4,
 "nbformat_minor": 5
}
