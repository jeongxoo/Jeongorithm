{
 "cells": [
  {
   "cell_type": "code",
   "execution_count": 2,
   "id": "6adde56a",
   "metadata": {},
   "outputs": [
    {
     "name": "stdout",
     "output_type": "stream",
     "text": [
      "0\n"
     ]
    }
   ],
   "source": [
    "n = \"-1\"\n",
    "width = {str(i):3 for i in range(2, 10)}\n",
    "width[\"0\"] = 4\n",
    "width[\"1\"] = 2\n",
    "\n",
    "while n != \"0\":\n",
    "    n = input()\n",
    "    if n == \"0\": break\n",
    "    length = len(n) + 1 + sum([width[s] for s in n])\n",
    "    print(length)"
   ]
  },
  {
   "cell_type": "code",
   "execution_count": null,
   "id": "0b417154",
   "metadata": {},
   "outputs": [],
   "source": []
  }
 ],
 "metadata": {
  "kernelspec": {
   "display_name": "Python 3 (ipykernel)",
   "language": "python",
   "name": "python3"
  },
  "language_info": {
   "codemirror_mode": {
    "name": "ipython",
    "version": 3
   },
   "file_extension": ".py",
   "mimetype": "text/x-python",
   "name": "python",
   "nbconvert_exporter": "python",
   "pygments_lexer": "ipython3",
   "version": "3.9.7"
  }
 },
 "nbformat": 4,
 "nbformat_minor": 5
}
