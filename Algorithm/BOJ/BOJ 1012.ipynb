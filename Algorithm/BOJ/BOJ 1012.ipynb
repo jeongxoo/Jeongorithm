{
 "cells": [
  {
   "cell_type": "code",
   "execution_count": 179,
   "id": "f4b4f5a1",
   "metadata": {},
   "outputs": [
    {
     "ename": "SyntaxError",
     "evalue": "invalid syntax (495497730.py, line 1)",
     "output_type": "error",
     "traceback": [
      "\u001b[0;36m  File \u001b[0;32m\"/var/folders/5v/vp7_v45s7pj122z7d82mm5d40000gn/T/ipykernel_14064/495497730.py\"\u001b[0;36m, line \u001b[0;32m1\u001b[0m\n\u001b[0;31m    0 0 0 1 0 4 0 10 1 2 1 7 1 10 1 12 1 13 2 2 2 3 2 7 3 2 3 4 3 6 3 8 3 11 3 14 4 0 4 1 4 2 4 5 4 6 4 7 4 8 4 11 4 12 4 14 5 0 5 2 5 4 5 7 5 8 5 10 5 11 5 13 5 14 6 5 6 10 6 12 6 13 6 14 7 1 7 9 7 12 7 13 8 2 8 4 8 8 8 9 8 12 8 13 9 0 9 3 9 5 9 11 10 2 10 3 10 5 10 9 10 10 11 8 11 9 11 11 11 12 11 13 12 3 12 13 12 14 13 1 13 4 13 7 13 9 13 10 13 13 14 0 14 5 14 7 14 8 14 13\u001b[0m\n\u001b[0m      ^\u001b[0m\n\u001b[0;31mSyntaxError\u001b[0m\u001b[0;31m:\u001b[0m invalid syntax\n"
     ]
    }
   ],
   "source": [
    "0 0 0 1 0 4 0 10 1 2 1 7 1 10 1 12 1 13 2 2 2 3 2 7 3 2 3 4 3 6 3 8 3 11 3 14 4 0 4 1 4 2 4 5 4 6 4 7 4 8 4 11 4 12 4 14 5 0 5 2 5 4 5 7 5 8 5 10 5 11 5 13 5 14 6 5 6 10 6 12 6 13 6 14 7 1 7 9 7 12 7 13 8 2 8 4 8 8 8 9 8 12 8 13 9 0 9 3 9 5 9 11 10 2 10 3 10 5 10 9 10 10 11 8 11 9 11 11 11 12 11 13 12 3 12 13 12 14 13 1 13 4 13 7 13 9 13 10 13 13 14 0 14 5 14 7 14 8 14 13\n",
    "\n",
    "0 3\n",
    "0 12\n",
    "1 12\n",
    "1 14\n",
    "2 1\n",
    "2 10\n",
    "2 11\n",
    "3 6\n",
    "4 1\n",
    "5 4\n",
    "6 10\n",
    "6 13\n",
    "7 7\n",
    "9 3\n",
    "9 4\n",
    "10 3\n",
    "10 10\n",
    "10 11\n",
    "12 1\n",
    "12 9\n",
    "14 14"
   ]
  },
  {
   "cell_type": "code",
   "execution_count": 206,
   "id": "e37a4a33",
   "metadata": {
    "scrolled": false
   },
   "outputs": [
    {
     "name": "stdout",
     "output_type": "stream",
     "text": [
      "1\n",
      "6 15 37\n",
      "0 0 0 1 0 4 0 10 1 2 1 7 1 10 1 12 1 13 2 2 2 3 2 7 3 2 3 4 3 6 3 8 3 11 3 14 4 0 4 1 4 2 4 5 4 6 4 7 4 8 4 11 4 12 4 14 5 0 5 2 5 4 5 7 5 8 5 10 5 11 5 13 5 14\n",
      "14\n"
     ]
    }
   ],
   "source": [
    "t = int(input())\n",
    "for _ in range(t):\n",
    "    m, n, k = map(int, input().split())\n",
    "#     kp = [list(map(int, input().split())) for _ in range(k)]\n",
    "    kp = list(map(int, input().split()))\n",
    "    kp = [[kp[i], kp[i+1]] for i in range(len(kp) - 1)]\n",
    "    kp = kp[::2]\n",
    "    kp.sort()\n",
    "    \n",
    "    k_label = [i for i in range(k)]\n",
    "\n",
    "    for i in range(len(kp)):\n",
    "        key = k_label[i]\n",
    "        x, y = kp[i][0], kp[i][1]\n",
    "\n",
    "        pos = [[x, y - 1], [x, y + 1], [x + 1, y], [x - 1, y]]\n",
    "        \n",
    "        for ps in pos:\n",
    "            if ps[0] < 0 or ps[1] < 0: continue\n",
    "                \n",
    "            if ps in kp:\n",
    "                k_label[kp.index(ps)] = key\n",
    "\n",
    "    print(len(set(k_label)))"
   ]
  },
  {
   "cell_type": "code",
   "execution_count": 202,
   "id": "fc676aea",
   "metadata": {},
   "outputs": [],
   "source": [
    "def change(d):\n",
    "    return chr(d+50)"
   ]
  },
  {
   "cell_type": "code",
   "execution_count": 203,
   "id": "5e376fd2",
   "metadata": {},
   "outputs": [
    {
     "name": "stdout",
     "output_type": "stream",
     "text": [
      "2 2 . . 4 . . . . . 5 . . . . \n",
      ". . 6 . . . . 7 . . 5 . 9 9 . \n",
      ". . 6 6 . . . 7 . . . . . . . \n",
      ". . D . ? . G . G . . B . . C \n",
      "D D D . . G G G G . . S B . U \n",
      "D . D . P . . G G . S S . Y Y \n",
      ". . . . . W . . . . S . Y Y Y \n",
      ". \\ . . . . . . . b . . Y Y . \n",
      ". . ` . a . . . b b . . Y Y . \n",
      "f . . j . h . . . . . i . . . \n",
      ". . j j . h . . . o m . . . . \n",
      ". . . . . . . . o o . q q q . \n",
      ". . . t . . . . . . . . . q q \n",
      ". w . . x . . y . z z . . q . \n",
      "} . . . . ~ . y y . . . . q . \n"
     ]
    }
   ],
   "source": [
    "for i in range(m):\n",
    "    for j in range(n):\n",
    "        if [i, j] in ap:\n",
    "            print(change(k_label[ap.index([i,j])]), end = \" \")\n",
    "        else:\n",
    "            print(\".\", end = \" \")\n",
    "    print()"
   ]
  },
  {
   "cell_type": "code",
   "execution_count": 207,
   "id": "56a3c5d1",
   "metadata": {},
   "outputs": [
    {
     "name": "stdout",
     "output_type": "stream",
     "text": [
      "2 2 . . 4 . . . . . 5 . . . . \n",
      ". . 6 . . . . 7 . . 5 . 9 9 . \n",
      ". . 6 6 . . . 7 . . . . . . . \n",
      ". . D . ? . G . G . . B . . C \n",
      "D D D . . G G G G . . S B . U \n",
      "D . D . P . . G G . S S . U U \n"
     ]
    }
   ],
   "source": [
    "for i in range(m):\n",
    "    for j in range(n):\n",
    "        if [i, j] in ap:\n",
    "            print(change(k_label[ap.index([i,j])]), end = \" \")\n",
    "        else:\n",
    "            print(\".\", end = \" \")\n",
    "    print()"
   ]
  },
  {
   "cell_type": "code",
   "execution_count": 152,
   "id": "453a5d37",
   "metadata": {},
   "outputs": [
    {
     "data": {
      "text/plain": [
       "[0,\n",
       " 0,\n",
       " 2,\n",
       " 3,\n",
       " 4,\n",
       " 5,\n",
       " 3,\n",
       " 7,\n",
       " 7,\n",
       " 4,\n",
       " 4,\n",
       " 5,\n",
       " 4,\n",
       " 13,\n",
       " 14,\n",
       " 15,\n",
       " 16,\n",
       " 17,\n",
       " 18,\n",
       " 18,\n",
       " 18,\n",
       " 21,\n",
       " 21,\n",
       " 21,\n",
       " 21,\n",
       " 16,\n",
       " 16,\n",
       " 17,\n",
       " 18,\n",
       " 18,\n",
       " 30,\n",
       " 21,\n",
       " 21,\n",
       " 33,\n",
       " 33,\n",
       " 35,\n",
       " 35,\n",
       " 37,\n",
       " 33,\n",
       " 39,\n",
       " 39,\n",
       " 39,\n",
       " 42,\n",
       " 43,\n",
       " 39,\n",
       " 39,\n",
       " 46,\n",
       " 47,\n",
       " 48,\n",
       " 48,\n",
       " 39,\n",
       " 39,\n",
       " 52,\n",
       " 53,\n",
       " 54,\n",
       " 55,\n",
       " 56,\n",
       " 56,\n",
       " 54,\n",
       " 59,\n",
       " 59,\n",
       " 61,\n",
       " 61,\n",
       " 63,\n",
       " 63,\n",
       " 63,\n",
       " 66,\n",
       " 63,\n",
       " 63,\n",
       " 69,\n",
       " 70,\n",
       " 71,\n",
       " 72,\n",
       " 72,\n",
       " 63,\n",
       " 75,\n",
       " 76,\n",
       " 71,\n",
       " 71,\n",
       " 63]"
      ]
     },
     "execution_count": 152,
     "metadata": {},
     "output_type": "execute_result"
    }
   ],
   "source": [
    "k_label"
   ]
  },
  {
   "cell_type": "code",
   "execution_count": 141,
   "id": "8699db97",
   "metadata": {},
   "outputs": [
    {
     "name": "stdout",
     "output_type": "stream",
     "text": [
      "16\n"
     ]
    }
   ],
   "source": [
    "for i in range(len(kp)):\n",
    "    key = k_label[i]\n",
    "    p = kp.pop(0)\n",
    "    x, y = p[0], p[1]\n",
    "\n",
    "    \n",
    "    pos = [[x, y - 1], [x, y + 1], [x + 1, y], [x - 1, y]]\n",
    "\n",
    "    for ps in pos:\n",
    "        if ps in kp:\n",
    "            k_label[ap.index(ps)] = key\n",
    "\n",
    "print(len(set(k_label)))"
   ]
  },
  {
   "cell_type": "code",
   "execution_count": null,
   "id": "0cc6acbf",
   "metadata": {},
   "outputs": [],
   "source": []
  }
 ],
 "metadata": {
  "kernelspec": {
   "display_name": "Python 3 (ipykernel)",
   "language": "python",
   "name": "python3"
  },
  "language_info": {
   "codemirror_mode": {
    "name": "ipython",
    "version": 3
   },
   "file_extension": ".py",
   "mimetype": "text/x-python",
   "name": "python",
   "nbconvert_exporter": "python",
   "pygments_lexer": "ipython3",
   "version": "3.9.7"
  }
 },
 "nbformat": 4,
 "nbformat_minor": 5
}
