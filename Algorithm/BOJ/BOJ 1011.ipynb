{
 "cells": [
  {
   "cell_type": "markdown",
   "id": "cd7db83c",
   "metadata": {},
   "source": [
    "## 문제 해결 아이디어"
   ]
  },
  {
   "cell_type": "markdown",
   "id": "0dc42dc9",
   "metadata": {},
   "source": [
    "- 결국 최단 거리로 가기 위해서는\n",
    "- 첫번째는 1이어야하고\n",
    "- 그 다음부터는 n, n-1, n-2, n-3 ---, 3, 2, 1 순으로 가는 것이 가장 효율적"
   ]
  },
  {
   "cell_type": "markdown",
   "id": "44bbac87",
   "metadata": {},
   "source": [
    "```\n",
    "x = 현재 남은 거리\n",
    "y = 총 거리\n",
    "z = 직전에 이동한 양\n",
    "```\n",
    "- x == sum(1~z) -> 결과 반환\n",
    "- x > sum(1~z) -> z + 1 만큼 더 이동\n",
    "- x < sum(1~z) -> z - 1 만큼 더 이동 // 이부분은 다를지도"
   ]
  },
  {
   "cell_type": "code",
   "execution_count": 1,
   "id": "447fd388",
   "metadata": {},
   "outputs": [],
   "source": [
    "hab = lambda x: sum([i for i in range(x + 1)])"
   ]
  },
  {
   "cell_type": "code",
   "execution_count": 171,
   "id": "49b5d78b",
   "metadata": {},
   "outputs": [],
   "source": [
    "import math"
   ]
  },
  {
   "cell_type": "markdown",
   "id": "ecad616d",
   "metadata": {},
   "source": [
    "## 이건 시간초과 뜸 (규칙적으로 계산)"
   ]
  },
  {
   "cell_type": "code",
   "execution_count": 205,
   "id": "013aae92",
   "metadata": {},
   "outputs": [
    {
     "name": "stdout",
     "output_type": "stream",
     "text": [
      "1 1 2 1\n",
      "2 2 2 1\n"
     ]
    }
   ],
   "source": [
    "for i in range(1, 3):\n",
    "    x, y = 0, i\n",
    "    move = 1\n",
    "    count = 1\n",
    "    left = (y - x) - move\n",
    "\n",
    "#     print(y-x, 0, 0)\n",
    "#     print(left, move, count)\n",
    "    while left != 0:\n",
    "        if hab(move) == left:\n",
    "            count += move\n",
    "            left -= hab(move)\n",
    "#             print(left, move, count)\n",
    "            break\n",
    "        elif hab(move) < left:\n",
    "            if hab(move) <= left - (move + 1):\n",
    "                move += 1\n",
    "            count += 1\n",
    "        else:\n",
    "            move -= 1\n",
    "            count += 1\n",
    "\n",
    "        if left == move and move != 1: move -= 1\n",
    "\n",
    "        left -= move\n",
    "#         print(left, move, count)\n",
    "    print(i, count,(round(math.sqrt(i)) * 2), round(math.sqrt(i)))\n",
    "    "
   ]
  },
  {
   "cell_type": "markdown",
   "id": "51f6f6b0",
   "metadata": {},
   "source": [
    "## 정답 부분 (수학적 계산)"
   ]
  },
  {
   "cell_type": "code",
   "execution_count": 207,
   "id": "7f8a2fcc",
   "metadata": {},
   "outputs": [
    {
     "name": "stdout",
     "output_type": "stream",
     "text": [
      "1\n",
      "0 2147483648\n",
      "92681\n"
     ]
    }
   ],
   "source": [
    "count = int(input())\n",
    "\n",
    "for i in range(count):\n",
    "    x, y = map(int, input().split())\n",
    "    left = y - x\n",
    "    num = round(math.sqrt(left))\n",
    "    if num**2 >= left:\n",
    "        print(num*2 - 1)\n",
    "    else : print(num*2)"
   ]
  },
  {
   "cell_type": "code",
   "execution_count": 167,
   "id": "516075fd",
   "metadata": {},
   "outputs": [
    {
     "data": {
      "text/plain": [
       "2147483648"
      ]
     },
     "execution_count": 167,
     "metadata": {},
     "output_type": "execute_result"
    }
   ],
   "source": [
    "2**31"
   ]
  },
  {
   "cell_type": "code",
   "execution_count": null,
   "id": "efef9ce4",
   "metadata": {},
   "outputs": [],
   "source": []
  }
 ],
 "metadata": {
  "kernelspec": {
   "display_name": "Python 3 (ipykernel)",
   "language": "python",
   "name": "python3"
  },
  "language_info": {
   "codemirror_mode": {
    "name": "ipython",
    "version": 3
   },
   "file_extension": ".py",
   "mimetype": "text/x-python",
   "name": "python",
   "nbconvert_exporter": "python",
   "pygments_lexer": "ipython3",
   "version": "3.9.7"
  }
 },
 "nbformat": 4,
 "nbformat_minor": 5
}
