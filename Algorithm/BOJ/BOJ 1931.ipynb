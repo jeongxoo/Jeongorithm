{
 "cells": [
  {
   "cell_type": "markdown",
   "id": "e3b22ff4",
   "metadata": {},
   "source": [
    "## 정답용 sys"
   ]
  },
  {
   "cell_type": "code",
   "execution_count": null,
   "id": "69d3753e",
   "metadata": {},
   "outputs": [],
   "source": [
    "from collections import deque\n",
    "import sys\n",
    "\n",
    "course = [list(map(int, (sys.stdin.readline().rstrip().split()))) for _ in range(int(input()))]\n",
    "course.sort()\n",
    "course.sort(key=lambda x: x[1])\n",
    "course = deque(course)\n",
    "\n",
    "cnt = 1\n",
    "start = course.popleft()\n",
    "while course:\n",
    "    temp = course.popleft()        \n",
    "    if temp[0] >= start[1]: \n",
    "        start = temp\n",
    "        cnt += 1\n",
    "print(cnt)"
   ]
  },
  {
   "cell_type": "markdown",
   "id": "def1f761",
   "metadata": {},
   "source": [
    "## 테스트용 input"
   ]
  },
  {
   "cell_type": "code",
   "execution_count": 1,
   "id": "b010c093",
   "metadata": {},
   "outputs": [
    {
     "name": "stdout",
     "output_type": "stream",
     "text": [
      "11\n",
      "1 4\n",
      "3 5\n",
      "0 6\n",
      "5 7\n",
      "3 8\n",
      "5 9\n",
      "6 10\n",
      "8 11\n",
      "8 12\n",
      "2 13\n",
      "12 14\n",
      "4\n"
     ]
    }
   ],
   "source": [
    "from collections import deque\n",
    "import sys\n",
    "\n",
    "course = [list(map(int, (input().split()))) for _ in range(int(input()))]\n",
    "course.sort()\n",
    "course.sort(key=lambda x: x[1])\n",
    "course = deque(course)\n",
    "\n",
    "cnt = 1\n",
    "start = course.popleft()\n",
    "while course:\n",
    "    temp = course.popleft()        \n",
    "    if temp[0] >= start[1]: \n",
    "        start = temp\n",
    "        cnt += 1\n",
    "print(cnt)"
   ]
  },
  {
   "cell_type": "code",
   "execution_count": null,
   "id": "1bd0b48f",
   "metadata": {},
   "outputs": [],
   "source": []
  }
 ],
 "metadata": {
  "kernelspec": {
   "display_name": "Python 3 (ipykernel)",
   "language": "python",
   "name": "python3"
  },
  "language_info": {
   "codemirror_mode": {
    "name": "ipython",
    "version": 3
   },
   "file_extension": ".py",
   "mimetype": "text/x-python",
   "name": "python",
   "nbconvert_exporter": "python",
   "pygments_lexer": "ipython3",
   "version": "3.9.7"
  }
 },
 "nbformat": 4,
 "nbformat_minor": 5
}
