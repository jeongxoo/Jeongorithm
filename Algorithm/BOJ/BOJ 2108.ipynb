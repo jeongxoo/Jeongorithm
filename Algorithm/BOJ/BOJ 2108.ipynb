{
 "cells": [
  {
   "cell_type": "code",
   "execution_count": 18,
   "id": "f0800f0a",
   "metadata": {},
   "outputs": [],
   "source": [
    "import sys\n",
    "import statistics\n",
    "\n",
    "nums = [int(sys.stdin.readline().rstrip()) for _ in range(int(input()))]\n",
    "nums.sort()\n",
    "print(round(statistics.mean(nums)))\n",
    "print(statistics.median(nums))\n",
    "_n = statistics.multimode(nums)\n",
    "print(_n[1 if len(_n) != 1 else 0])\n",
    "print(max(nums) - min(nums))"
   ]
  },
  {
   "cell_type": "code",
   "execution_count": null,
   "id": "15d43631",
   "metadata": {},
   "outputs": [],
   "source": []
  }
 ],
 "metadata": {
  "kernelspec": {
   "display_name": "Python 3 (ipykernel)",
   "language": "python",
   "name": "python3"
  },
  "language_info": {
   "codemirror_mode": {
    "name": "ipython",
    "version": 3
   },
   "file_extension": ".py",
   "mimetype": "text/x-python",
   "name": "python",
   "nbconvert_exporter": "python",
   "pygments_lexer": "ipython3",
   "version": "3.9.7"
  }
 },
 "nbformat": 4,
 "nbformat_minor": 5
}
