{
 "cells": [
  {
   "cell_type": "code",
   "execution_count": 1,
   "id": "d32c9f2b",
   "metadata": {},
   "outputs": [],
   "source": [
    "import sys"
   ]
  },
  {
   "cell_type": "code",
   "execution_count": 14,
   "id": "d67fa3c3",
   "metadata": {},
   "outputs": [
    {
     "name": "stdout",
     "output_type": "stream",
     "text": [
      "5\n"
     ]
    }
   ],
   "source": [
    "spec = [list(map(int, sys.stdin.readline().rstrip().split())) for _ in range(int(input()))]\n",
    "# spec = [list(map(int, input().split())) for _ in range(int(input()))]"
   ]
  },
  {
   "cell_type": "code",
   "execution_count": 15,
   "id": "3f196822",
   "metadata": {},
   "outputs": [
    {
     "name": "stdout",
     "output_type": "stream",
     "text": [
      "1 1 1 1 1 \n"
     ]
    }
   ],
   "source": [
    "ans = \"\"\n",
    "for v in spec:\n",
    "    cnt = 1\n",
    "    for s in spec:\n",
    "        if s != v:\n",
    "            if (s[1] > v[1]) and (s[0] > v[0]):\n",
    "                cnt += 1\n",
    "                \n",
    "    ans += str(cnt) + \" \"\n",
    "print(ans)"
   ]
  },
  {
   "cell_type": "code",
   "execution_count": null,
   "id": "891a73eb",
   "metadata": {},
   "outputs": [],
   "source": []
  }
 ],
 "metadata": {
  "kernelspec": {
   "display_name": "Python 3 (ipykernel)",
   "language": "python",
   "name": "python3"
  },
  "language_info": {
   "codemirror_mode": {
    "name": "ipython",
    "version": 3
   },
   "file_extension": ".py",
   "mimetype": "text/x-python",
   "name": "python",
   "nbconvert_exporter": "python",
   "pygments_lexer": "ipython3",
   "version": "3.9.7"
  }
 },
 "nbformat": 4,
 "nbformat_minor": 5
}
