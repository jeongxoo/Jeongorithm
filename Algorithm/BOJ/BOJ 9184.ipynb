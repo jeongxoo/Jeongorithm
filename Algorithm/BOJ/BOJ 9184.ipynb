{
 "cells": [
  {
   "cell_type": "markdown",
   "id": "b12132a0",
   "metadata": {},
   "source": [
    "# 9184\n",
    "\n",
    "다음과 같은 재귀함수 w(a,b,c)가 주어졌을때 w(a,b,c)를 출력하는 프로그램 작성\n",
    "\n",
    "\n",
    "```\n",
    "if a <= 0 or b <= 0 or c <= 0, then w(a, b, c) returns:\n",
    "    1\n",
    "\n",
    "if a > 20 or b > 20 or c > 20, then w(a, b, c) returns:\n",
    "    w(20, 20, 20)\n",
    "\n",
    "if a < b and b < c, then w(a, b, c) returns:\n",
    "    w(a, b, c-1) + w(a, b-1, c-1) - w(a, b-1, c)\n",
    "\n",
    "otherwise it returns:\n",
    "    w(a-1, b, c) + w(a-1, b-1, c) + w(a-1, b, c-1) - w(a-1, b-1, c-1)\n",
    "```\n"
   ]
  },
  {
   "cell_type": "markdown",
   "id": "bf96c609",
   "metadata": {},
   "source": [
    "## 입력\n",
    "입력은 세 정수 a, b, c로 이루어져 있으며, 한 줄에 하나씩 주어진다. \n",
    "\n",
    "입력의 마지막은 -1 -1 -1로 나타내며, 세 정수가 모두 -1인 경우는 입력의 마지막을 제외하면 없다.\n",
    "\n",
    "\n",
    "## 출력\n",
    "\n",
    "입력으로 주어진 각각의 a, b, c에 대해서, w(a, b, c)를 출력한다.\n",
    "\n",
    "\n",
    "```\n",
    "입력\n",
    "1 1 1\n",
    "2 2 2\n",
    "10 4 6\n",
    "50 50 50\n",
    "-1 7 18\n",
    "-1 -1 -1\n",
    "````\n",
    "\n",
    "```\n",
    "출력\n",
    "w(1, 1, 1) = 2\n",
    "w(2, 2, 2) = 4\n",
    "w(10, 4, 6) = 523\n",
    "w(50, 50, 50) = 1048576\n",
    "w(-1, 7, 18) = 1\n",
    "```\n"
   ]
  },
  {
   "cell_type": "code",
   "execution_count": 36,
   "id": "880cb3fb",
   "metadata": {},
   "outputs": [],
   "source": [
    "answers = {}\n",
    "def w(a, b, c):\n",
    "    if (a,b,c) in answers.keys():\n",
    "        return answers[(a, b, c)]\n",
    "    \n",
    "    if a <= 0 or b <= 0 or c <= 0:\n",
    "        answers[(a, b, c)] = 1\n",
    "        return 1\n",
    "\n",
    "    if a > 20 or b > 20 or c > 20:\n",
    "        answers[(a, b, c)] = w(20, 20, 20)\n",
    "        return w(20, 20, 20)\n",
    "\n",
    "    if a < b and b < c:\n",
    "        answers[(a, b, c)] = w(a, b, c-1) + w(a, b-1, c-1) - w(a, b-1, c) \n",
    "        return w(a, b, c-1) + w(a, b-1, c-1) - w(a, b-1, c)\n",
    "\n",
    "    answers[(a, b, c)] = w(a-1, b, c) + w(a-1, b-1, c) + w(a-1, b, c-1) - w(a-1, b-1, c-1)\n",
    "    return w(a-1, b, c) + w(a-1, b-1, c) + w(a-1, b, c-1) - w(a-1, b-1, c-1)"
   ]
  },
  {
   "cell_type": "code",
   "execution_count": 49,
   "id": "46dd73f0",
   "metadata": {},
   "outputs": [
    {
     "name": "stdout",
     "output_type": "stream",
     "text": [
      "10 10 10\n",
      "w(10, 10, 10) = 1024\n",
      "10 4 6\n",
      "w(10, 4, 6) = 523\n",
      "50 50 50\n",
      "w(50, 50, 50) = 1048576\n",
      "-1 7 18\n",
      "w(-1, 7, 18) = 1\n",
      "-1 -1 -1\n"
     ]
    }
   ],
   "source": [
    "a, b, c = 0, 0, 0\n",
    "answers = {}\n",
    "\n",
    "while (1):\n",
    "    a, b, c = input().split(\" \")\n",
    "    a = int(a)\n",
    "    b = int(b)\n",
    "    c = int(c)\n",
    "        \n",
    "    if a == -1 and b == -1 and c == -1: break\n",
    "    \n",
    "    ans = w(a,b,c)\n",
    "    print(\"w(%d, %d, %d) = %d\" %(a, b, c, ans))"
   ]
  },
  {
   "cell_type": "code",
   "execution_count": null,
   "id": "fa84d191",
   "metadata": {},
   "outputs": [],
   "source": []
  }
 ],
 "metadata": {
  "kernelspec": {
   "display_name": "Python 3 (ipykernel)",
   "language": "python",
   "name": "python3"
  },
  "language_info": {
   "codemirror_mode": {
    "name": "ipython",
    "version": 3
   },
   "file_extension": ".py",
   "mimetype": "text/x-python",
   "name": "python",
   "nbconvert_exporter": "python",
   "pygments_lexer": "ipython3",
   "version": "3.9.7"
  }
 },
 "nbformat": 4,
 "nbformat_minor": 5
}
