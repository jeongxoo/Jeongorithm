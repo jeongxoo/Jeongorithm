{
 "cells": [
  {
   "cell_type": "code",
   "execution_count": 161,
   "id": "631470bd",
   "metadata": {},
   "outputs": [
    {
     "name": "stdout",
     "output_type": "stream",
     "text": [
      "9\n",
      "abba\n",
      "abac\n",
      "abcb\n",
      "abaa\n",
      "aabaa\n",
      "aabba\n",
      "abacc\n",
      "ababab\n",
      "abbcbb\n",
      "0\n"
     ]
    }
   ],
   "source": [
    "def checker(sen):\n",
    "    if len(set(sen)) == 1: return True\n",
    "    for s in set(sen):\n",
    "        _s = \".\".join(sen.split(s))\n",
    "        for i in range(len(_s)): _s = _s.replace(\"..\", \".\")\n",
    "        if len(_s.split(\".\")) != 2: \n",
    "            return False\n",
    "    return True\n",
    "\n",
    "counts = int(input())\n",
    "num = 0\n",
    "for i in range(counts):\n",
    "    if checker(input()):\n",
    "        num += 1 \n",
    "print(num)"
   ]
  },
  {
   "cell_type": "code",
   "execution_count": 162,
   "id": "152377cc",
   "metadata": {},
   "outputs": [
    {
     "data": {
      "text/plain": [
       "0.3333333333333333"
      ]
     },
     "execution_count": 162,
     "metadata": {},
     "output_type": "execute_result"
    }
   ],
   "source": [
    "1/3"
   ]
  },
  {
   "cell_type": "code",
   "execution_count": 173,
   "id": "c4b3002e",
   "metadata": {},
   "outputs": [
    {
     "name": "stdout",
     "output_type": "stream",
     "text": [
      "1 3\n",
      "0.3333333333333333\n"
     ]
    }
   ],
   "source": [
    "n = input().split(\" \")\n",
    "print(int(n[0])/int(n[1]))"
   ]
  },
  {
   "cell_type": "code",
   "execution_count": null,
   "id": "fa43ad77",
   "metadata": {},
   "outputs": [],
   "source": []
  }
 ],
 "metadata": {
  "kernelspec": {
   "display_name": "Python 3 (ipykernel)",
   "language": "python",
   "name": "python3"
  },
  "language_info": {
   "codemirror_mode": {
    "name": "ipython",
    "version": 3
   },
   "file_extension": ".py",
   "mimetype": "text/x-python",
   "name": "python",
   "nbconvert_exporter": "python",
   "pygments_lexer": "ipython3",
   "version": "3.9.7"
  }
 },
 "nbformat": 4,
 "nbformat_minor": 5
}
