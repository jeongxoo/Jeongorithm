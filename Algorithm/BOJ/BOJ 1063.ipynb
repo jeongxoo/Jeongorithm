{
 "cells": [
  {
   "cell_type": "code",
   "execution_count": 18,
   "id": "e52a678e",
   "metadata": {},
   "outputs": [],
   "source": [
    "def move(direction, position):\n",
    "    order = {\"R\": [1, 0], \"L\": [-1, 0],\n",
    "             \"T\": [0, 1], \"B\": [0, -1],\n",
    "             \"RT\": [1, 1], \"LT\": [-1, 1],\n",
    "             \"RB\": [1, -1], \"LB\": [-1, -1]}\n",
    "    \n",
    "    x = ord(position[0]) + order[direction][0]\n",
    "    y = int(position[1]) + order[direction][1]\n",
    "    \n",
    "    if (x >= 65 and x <= 72) and (y >= 1 and y <= 8):\n",
    "        return chr(x) + str(y)\n",
    "    else:\n",
    "        return False"
   ]
  },
  {
   "cell_type": "code",
   "execution_count": 31,
   "id": "5dc5de45",
   "metadata": {},
   "outputs": [
    {
     "name": "stdout",
     "output_type": "stream",
     "text": [
      "A8 B7 18\n",
      "RB\n",
      "RB\n",
      "RB\n",
      "RB\n",
      "RB\n",
      "RB\n",
      "RB\n",
      "RB\n",
      "RB\n",
      "RB\n",
      "RB\n",
      "RB\n",
      "RB\n",
      "RB\n",
      "RB\n",
      "RB\n",
      "RB\n",
      "RB\n",
      "G2\n",
      "H1\n"
     ]
    }
   ],
   "source": [
    "king, stone, n = input().split()\n",
    "\n",
    "for _ in range(int(n)):\n",
    "    direction = input()\n",
    "    _king = move(direction, king)    \n",
    "\n",
    "    if _king: \n",
    "        if _king == stone: \n",
    "            _stone = move(direction, stone)\n",
    "            if _stone:\n",
    "                stone = _stone\n",
    "                king = _king\n",
    "            else: continue\n",
    "        else: king = _king\n",
    "    else: continue\n",
    "        \n",
    "print(king)\n",
    "print(stone)"
   ]
  },
  {
   "cell_type": "code",
   "execution_count": null,
   "id": "b46e990a",
   "metadata": {},
   "outputs": [],
   "source": [
    "RB"
   ]
  }
 ],
 "metadata": {
  "kernelspec": {
   "display_name": "Python 3 (ipykernel)",
   "language": "python",
   "name": "python3"
  },
  "language_info": {
   "codemirror_mode": {
    "name": "ipython",
    "version": 3
   },
   "file_extension": ".py",
   "mimetype": "text/x-python",
   "name": "python",
   "nbconvert_exporter": "python",
   "pygments_lexer": "ipython3",
   "version": "3.9.7"
  }
 },
 "nbformat": 4,
 "nbformat_minor": 5
}
