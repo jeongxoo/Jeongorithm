{
 "cells": [
  {
   "cell_type": "markdown",
   "id": "99c70088",
   "metadata": {},
   "source": [
    "- 첫째 줄에 N이 주어진다. \n",
    "- 둘째 줄에는 A에 있는 N개의 수가 순서대로 주어지고, 셋째 줄에는 B에 있는 수가 순서대로 주어진다. \n",
    "- N은 50보다 작거나 같은 자연수이고, A와 B의 각 원소는 100보다 작거나 같은 음이 아닌 정수이다."
   ]
  },
  {
   "cell_type": "code",
   "execution_count": 15,
   "id": "57e0a1ae",
   "metadata": {},
   "outputs": [],
   "source": [
    "n = 9\n",
    "a = [5, 15, 100, 31, 39, 0, 0, 3, 26]\n",
    "b = [11, 12, 13, 2, 3, 4, 5, 9, 1]"
   ]
  },
  {
   "cell_type": "code",
   "execution_count": 23,
   "id": "099b5142",
   "metadata": {
    "scrolled": true
   },
   "outputs": [
    {
     "name": "stdout",
     "output_type": "stream",
     "text": [
      "5\n",
      "1 1 1 6 0\n",
      "2 7 8 3 1\n",
      "18\n"
     ]
    }
   ],
   "source": [
    "n = int(input())\n",
    "a = list(map(int, input().split()))\n",
    "b = list(map(int, input().split()))\n",
    "\n",
    "a.sort()\n",
    "b.sort(reverse = True)\n",
    "\n",
    "print(sum([a[i] * b[i] for i in range(n)]))"
   ]
  },
  {
   "cell_type": "code",
   "execution_count": null,
   "id": "a732153e",
   "metadata": {},
   "outputs": [],
   "source": []
  }
 ],
 "metadata": {
  "kernelspec": {
   "display_name": "Python 3 (ipykernel)",
   "language": "python",
   "name": "python3"
  },
  "language_info": {
   "codemirror_mode": {
    "name": "ipython",
    "version": 3
   },
   "file_extension": ".py",
   "mimetype": "text/x-python",
   "name": "python",
   "nbconvert_exporter": "python",
   "pygments_lexer": "ipython3",
   "version": "3.9.7"
  }
 },
 "nbformat": 4,
 "nbformat_minor": 5
}
