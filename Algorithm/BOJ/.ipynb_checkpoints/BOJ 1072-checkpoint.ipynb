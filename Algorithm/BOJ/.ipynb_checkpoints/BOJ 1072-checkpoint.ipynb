{
 "cells": [
  {
   "cell_type": "code",
   "execution_count": 34,
   "id": "bc6fb5d0",
   "metadata": {},
   "outputs": [
    {
     "name": "stdout",
     "output_type": "stream",
     "text": [
      "10 8\n",
      "1\n"
     ]
    }
   ],
   "source": [
    "x, y = map(int, input().split())\n",
    "z = int((y * 100) / x)\n",
    "k1 = (x * (z + 1)) - (100 * y)\n",
    "k2 = 99 - z\n",
    "\n",
    "if z >= 99: print(-1)\n",
    "else:\n",
    "    if k1 % k2 == 0: print(k1 // k2)\n",
    "    else: print((k1 // k2) + 1)"
   ]
  },
  {
   "cell_type": "code",
   "execution_count": null,
   "id": "3274f8ab",
   "metadata": {},
   "outputs": [],
   "source": []
  }
 ],
 "metadata": {
  "kernelspec": {
   "display_name": "Python 3 (ipykernel)",
   "language": "python",
   "name": "python3"
  },
  "language_info": {
   "codemirror_mode": {
    "name": "ipython",
    "version": 3
   },
   "file_extension": ".py",
   "mimetype": "text/x-python",
   "name": "python",
   "nbconvert_exporter": "python",
   "pygments_lexer": "ipython3",
   "version": "3.9.7"
  }
 },
 "nbformat": 4,
 "nbformat_minor": 5
}
