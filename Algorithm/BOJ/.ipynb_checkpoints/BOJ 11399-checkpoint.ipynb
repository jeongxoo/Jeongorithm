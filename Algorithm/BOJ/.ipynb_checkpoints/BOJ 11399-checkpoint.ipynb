{
 "cells": [
  {
   "cell_type": "code",
   "execution_count": 1,
   "id": "8f3bcfd6",
   "metadata": {},
   "outputs": [],
   "source": [
    "import sys"
   ]
  },
  {
   "cell_type": "code",
   "execution_count": null,
   "id": "a947b06b",
   "metadata": {},
   "outputs": [],
   "source": [
    "n = int(input())\n",
    "times = list(map(int, (sys.stdin.readline().rstrip().split())))"
   ]
  },
  {
   "cell_type": "code",
   "execution_count": 7,
   "id": "68d179a5",
   "metadata": {},
   "outputs": [
    {
     "name": "stdout",
     "output_type": "stream",
     "text": [
      "5\n",
      "3 1 4 3 2\n",
      "32\n"
     ]
    }
   ],
   "source": [
    "n = int(input())\n",
    "times = list(map(int, input().split()))\n",
    "times.sort()\n",
    "\n",
    "need = 0\n",
    "for i, v in enumerate(times):\n",
    "    need += sum(times[:i+1])\n",
    "print(need)"
   ]
  },
  {
   "cell_type": "code",
   "execution_count": null,
   "id": "895c31fc",
   "metadata": {},
   "outputs": [],
   "source": []
  }
 ],
 "metadata": {
  "kernelspec": {
   "display_name": "Python 3 (ipykernel)",
   "language": "python",
   "name": "python3"
  },
  "language_info": {
   "codemirror_mode": {
    "name": "ipython",
    "version": 3
   },
   "file_extension": ".py",
   "mimetype": "text/x-python",
   "name": "python",
   "nbconvert_exporter": "python",
   "pygments_lexer": "ipython3",
   "version": "3.9.7"
  }
 },
 "nbformat": 4,
 "nbformat_minor": 5
}
