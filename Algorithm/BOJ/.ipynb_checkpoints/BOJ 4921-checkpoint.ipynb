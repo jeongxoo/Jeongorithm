{
 "cells": [
  {
   "cell_type": "code",
   "execution_count": 2,
   "id": "f90c2599",
   "metadata": {},
   "outputs": [],
   "source": [
    "from collections import deque"
   ]
  },
  {
   "cell_type": "code",
   "execution_count": 26,
   "id": "f65cb7d7",
   "metadata": {},
   "outputs": [],
   "source": [
    "def checking(case):\n",
    "    case = deque(case)\n",
    "    rules = {\"1\" : [\"4\", \"5\"], \"2\" : [], \"3\" : [\"4\", \"5\"], \n",
    "             \"4\" : [\"2\", \"3\"], \"5\" : [\"8\"], \"6\" : [\"3\", \"2\"], \n",
    "             \"7\" : [\"8\"], \"8\" : [\"6\", \"7\"]}\n",
    "    if case[0] != \"1\" or case[-1] != \"2\": return \"NOT\"\n",
    "    \n",
    "    while case:\n",
    "        current = case.popleft()\n",
    "        if not case: break\n",
    "        if case[0] not in rules[current]: return \"NOT\"\n",
    "    return \"VALID\""
   ]
  },
  {
   "cell_type": "code",
   "execution_count": 42,
   "id": "d2767432",
   "metadata": {},
   "outputs": [
    {
     "name": "stdout",
     "output_type": "stream",
     "text": [
      "12\n",
      "1. NOT\n",
      "0\n"
     ]
    }
   ],
   "source": [
    "case = \"\"\n",
    "count = 0\n",
    "while 1:\n",
    "    case = input()\n",
    "    if case == \"0\": break\n",
    "    count += 1\n",
    "    check = checking(case)\n",
    "    print(str(count) + \". \" + check)"
   ]
  },
  {
   "cell_type": "code",
   "execution_count": null,
   "id": "18eb1dce",
   "metadata": {},
   "outputs": [],
   "source": []
  }
 ],
 "metadata": {
  "kernelspec": {
   "display_name": "Python 3 (ipykernel)",
   "language": "python",
   "name": "python3"
  },
  "language_info": {
   "codemirror_mode": {
    "name": "ipython",
    "version": 3
   },
   "file_extension": ".py",
   "mimetype": "text/x-python",
   "name": "python",
   "nbconvert_exporter": "python",
   "pygments_lexer": "ipython3",
   "version": "3.9.7"
  }
 },
 "nbformat": 4,
 "nbformat_minor": 5
}
