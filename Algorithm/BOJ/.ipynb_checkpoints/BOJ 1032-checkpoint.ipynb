{
 "cells": [
  {
   "cell_type": "markdown",
   "id": "b12132a0",
   "metadata": {},
   "source": [
    "# 1032\n",
    "\n",
    "시작 -> 실행 -> cmd를 쳐보자. 검정 화면이 눈에 보인다. 여기서 dir이라고 치면 그 디렉토리에 있는 서브디렉토리와 파일이 모두 나온다. 이때 원하는 파일을 찾으려면 다음과 같이 하면 된다.\n",
    "\n",
    "dir *.exe라고 치면 확장자가 exe인 파일이 다 나온다. \"dir 패턴\"과 같이 치면 그 패턴에 맞는 파일만 검색 결과로 나온다. 예를 들어, dir a?b.exe라고 검색하면 파일명의 첫 번째 글자가 a이고, 세 번째 글자가 b이고, 확장자가 exe인 것이 모두 나온다. 이때 두 번째 문자는 아무거나 나와도 된다. 예를 들어, acb.exe, aab.exe, apb.exe가 나온다.\n",
    "\n",
    "이 문제는 검색 결과가 먼저 주어졌을 때, 패턴으로 뭘 쳐야 그 결과가 나오는지를 출력하는 문제이다. 패턴에는 알파벳과 \".\" 그리고 \"?\"만 넣을 수 있다. 가능하면 ?을 적게 써야 한다. 그 디렉토리에는 검색 결과에 나온 파일만 있다고 가정하고, 파일 이름의 길이는 모두 같다.\n"
   ]
  },
  {
   "cell_type": "markdown",
   "id": "bf96c609",
   "metadata": {},
   "source": [
    "## 입력\n",
    "첫째 줄에 파일 이름의 개수 N이 주어진다. \n",
    "\n",
    "둘째 줄부터 N개의 줄에는 파일 이름이 주어진다. \n",
    "\n",
    "N은 50보다 작거나 같은 자연수이고 파일 이름의 길이는 모두 같고 길이는 최대 50이다. \n",
    "\n",
    "파일이름은 알파벳 소문자, \".\" 그리고 \"?\"로만 이루어져 있다.\n",
    "\n",
    "\n",
    "## 출력\n",
    "\n",
    "첫째 줄에 패턴을 출력하면 된다.\n",
    "\n",
    "\n",
    "```\n",
    "입력\n",
    "3\n",
    "config.sys\n",
    "config.inf\n",
    "configures\n",
    "````\n",
    "\n",
    "```\n",
    "출력\n",
    "config????\n",
    "```\n"
   ]
  },
  {
   "cell_type": "code",
   "execution_count": null,
   "id": "d642d227",
   "metadata": {},
   "outputs": [],
   "source": [
    "a = \"config.sys\"\n",
    "b = \"config.inf\"\n",
    "c = \"configures\""
   ]
  },
  {
   "cell_type": "code",
   "execution_count": null,
   "id": "d813cebc",
   "metadata": {},
   "outputs": [],
   "source": [
    "abc = lambda x: [a for a in x]"
   ]
  },
  {
   "cell_type": "code",
   "execution_count": null,
   "id": "e54a8d46",
   "metadata": {},
   "outputs": [],
   "source": [
    "_a = abc(a)\n",
    "_b = abc(b)\n",
    "_c = abc(c)"
   ]
  },
  {
   "cell_type": "code",
   "execution_count": null,
   "id": "3eda66cc",
   "metadata": {},
   "outputs": [],
   "source": [
    "import numpy as np\n",
    "whole = np.array([_a,_b,_c])"
   ]
  },
  {
   "cell_type": "code",
   "execution_count": null,
   "id": "72b2bc6f",
   "metadata": {},
   "outputs": [],
   "source": [
    "for i in range(len(whole) - 1):\n",
    "        check = whole[i] == whole[i + 1]\n",
    "        whole[i+1] = [whole[i+1][j] if check[j] else \"-\" for j in range(len(check))]\n",
    "        \n",
    "for a in whole[-1]:\n",
    "    if a == \"-\": print(\"?\", end = \"\")\n",
    "    else: print(a, end = \"\")"
   ]
  },
  {
   "cell_type": "markdown",
   "id": "17b40c8f",
   "metadata": {},
   "source": [
    "## 백준에서 넘파이 라이브러리는 사용 불가;;"
   ]
  },
  {
   "cell_type": "code",
   "execution_count": 1,
   "id": "2f9424ba",
   "metadata": {},
   "outputs": [
    {
     "name": "stdout",
     "output_type": "stream",
     "text": [
      "3\n",
      "configures\n",
      "config.inf\n",
      "config.sys\n",
      "config????"
     ]
    }
   ],
   "source": [
    "import numpy as np\n",
    "\n",
    "abc = lambda x: [y for y in x]\n",
    "\n",
    "count = int(input())\n",
    "file_names = []\n",
    "\n",
    "for _ in range(count):\n",
    "    _t = abc(input())\n",
    "    file_names.append(_t)\n",
    "\n",
    "whole = np.array(file_names, dtype = object)\n",
    "\n",
    "for i in range(len(whole) - 1):\n",
    "        check = whole[i] == whole[i + 1]\n",
    "        whole[i+1] = [whole[i+1][j] if check[j] else \"-\" for j in range(len(check))]\n",
    "        \n",
    "for a in whole[-1]:\n",
    "    if a == \"-\": print(\"?\", end = \"\")\n",
    "    else: print(a, end = \"\")"
   ]
  },
  {
   "cell_type": "markdown",
   "id": "725ea400",
   "metadata": {},
   "source": [
    "## 백준 제출 가능 코드는 아래"
   ]
  },
  {
   "cell_type": "code",
   "execution_count": 5,
   "id": "b0fed1d7",
   "metadata": {},
   "outputs": [
    {
     "name": "stdout",
     "output_type": "stream",
     "text": [
      "3\n",
      "config.sys\n",
      "config.inf\n",
      "configures\n",
      "config????"
     ]
    }
   ],
   "source": [
    "abc = lambda x: [y for y in x]\n",
    "\n",
    "count = int(input())\n",
    "whole = []\n",
    "\n",
    "for _ in range(count):\n",
    "    _t = abc(input())\n",
    "    whole.append(_t)\n",
    "\n",
    "for i in range(len(whole) - 1):\n",
    "        check = [whole[i][j] == whole[i+1][j] for j in range(len(whole[i]))]\n",
    "        whole[i+1] = [whole[i+1][j] if check[j] else \"-\" for j in range(len(check))]\n",
    "        \n",
    "for a in whole[-1]:\n",
    "    if a == \"-\": print(\"?\", end = \"\")\n",
    "    else: print(a, end = \"\")"
   ]
  },
  {
   "cell_type": "code",
   "execution_count": 2,
   "id": "b70ddfc3",
   "metadata": {},
   "outputs": [
    {
     "name": "stdout",
     "output_type": "stream",
     "text": [
      "2\n",
      "aaa\n",
      "asw\n",
      "a??\n"
     ]
    }
   ],
   "source": [
    "count = int(input())\n",
    "point = input()\n",
    "for i in range(count - 1):\n",
    "    text = input()\n",
    "    point = \"\".join([v if v == point[i] else \"?\" for i, v in enumerate(text)])\n",
    "\n",
    "print(point)"
   ]
  },
  {
   "cell_type": "code",
   "execution_count": null,
   "id": "2dace600",
   "metadata": {},
   "outputs": [],
   "source": []
  }
 ],
 "metadata": {
  "kernelspec": {
   "display_name": "Python 3 (ipykernel)",
   "language": "python",
   "name": "python3"
  },
  "language_info": {
   "codemirror_mode": {
    "name": "ipython",
    "version": 3
   },
   "file_extension": ".py",
   "mimetype": "text/x-python",
   "name": "python",
   "nbconvert_exporter": "python",
   "pygments_lexer": "ipython3",
   "version": "3.9.7"
  }
 },
 "nbformat": 4,
 "nbformat_minor": 5
}
