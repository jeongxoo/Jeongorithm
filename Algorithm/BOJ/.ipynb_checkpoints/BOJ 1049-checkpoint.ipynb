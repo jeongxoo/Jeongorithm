{
 "cells": [
  {
   "cell_type": "code",
   "execution_count": 23,
   "id": "4474c39d",
   "metadata": {},
   "outputs": [
    {
     "name": "stdout",
     "output_type": "stream",
     "text": [
      "9 16\n",
      "21 25\n",
      "77 23\n",
      "23 88\n",
      "95 43\n",
      "96 19\n",
      "59 36\n",
      "80 13\n",
      "51 24\n",
      "15 8\n",
      "25 61\n",
      "21 22\n",
      "3 9\n",
      "68 68\n",
      "67 100\n",
      "83 98\n",
      "96 57\n",
      "6\n"
     ]
    }
   ],
   "source": [
    "n, m = map(int, input().split())\n",
    "\n",
    "m_arr, s_arr = [], []\n",
    "for _ in range(m):\n",
    "    multi, single = map(int, input().split())\n",
    "    m_arr.append(multi)\n",
    "    s_arr.append(single)\n",
    "\n",
    "m_arr.sort()\n",
    "s_arr.sort()\n",
    "\n",
    "if n % 6 == 0: print(s_arr[0] * n if m_arr[0] > s_arr[0] * 6 else m_arr[0] * (n // 6))\n",
    "else:\n",
    "    _p = ((n // 6) * m_arr[0]) + ((n % 6) * s_arr[0]) if ((n // 6) + 1) * m_arr[0] >= ((n // 6) * m_arr[0]) + ((n % 6) * s_arr[0]) else ((n // 6) + 1) * m_arr[0]\n",
    "    print(_p if n * s_arr[0] >= _p else n * s_arr[0])"
   ]
  },
  {
   "cell_type": "code",
   "execution_count": null,
   "id": "e3e76e5b",
   "metadata": {},
   "outputs": [],
   "source": []
  },
  {
   "cell_type": "code",
   "execution_count": null,
   "id": "da55aa4e",
   "metadata": {},
   "outputs": [],
   "source": []
  }
 ],
 "metadata": {
  "kernelspec": {
   "display_name": "Python 3 (ipykernel)",
   "language": "python",
   "name": "python3"
  },
  "language_info": {
   "codemirror_mode": {
    "name": "ipython",
    "version": 3
   },
   "file_extension": ".py",
   "mimetype": "text/x-python",
   "name": "python",
   "nbconvert_exporter": "python",
   "pygments_lexer": "ipython3",
   "version": "3.9.7"
  }
 },
 "nbformat": 4,
 "nbformat_minor": 5
}
