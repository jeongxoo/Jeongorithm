{
 "cells": [
  {
   "cell_type": "code",
   "execution_count": null,
   "id": "45aadd4e",
   "metadata": {},
   "outputs": [],
   "source": [
    "666\n",
    "\n",
    "1666\n",
    "2666\n",
    "3666\n",
    "4666\n",
    "5666\n",
    "6660\n",
    "6661\n",
    "6662\n",
    "6663\n",
    "6664\n",
    "6665\n",
    "6666\n",
    "6667\n",
    "6668\n",
    "6669\n",
    "7666\n",
    "8666\n",
    "9666\n",
    "\n",
    "10666\n",
    "11666\n",
    "12666\n",
    "13666\n",
    "14666\n",
    "15666\n",
    "16660\n",
    "16661\n",
    "16662\n",
    "16663\n",
    "16664\n",
    "16665\n",
    "16666\n",
    "16667\n",
    "16668\n",
    "16669\n",
    "17666\n",
    "18666\n",
    "19666"
   ]
  }
 ],
 "metadata": {
  "kernelspec": {
   "display_name": "Python 3 (ipykernel)",
   "language": "python",
   "name": "python3"
  },
  "language_info": {
   "codemirror_mode": {
    "name": "ipython",
    "version": 3
   },
   "file_extension": ".py",
   "mimetype": "text/x-python",
   "name": "python",
   "nbconvert_exporter": "python",
   "pygments_lexer": "ipython3",
   "version": "3.9.7"
  }
 },
 "nbformat": 4,
 "nbformat_minor": 5
}
