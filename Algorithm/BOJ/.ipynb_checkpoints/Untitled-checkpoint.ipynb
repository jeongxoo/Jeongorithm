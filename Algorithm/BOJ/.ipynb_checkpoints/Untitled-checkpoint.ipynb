{
 "cells": [
  {
   "cell_type": "markdown",
   "id": "d3367a07",
   "metadata": {},
   "source": [
    "첫째 줄에 N, 둘째 줄에 F가 주어진다. N은 100보다 크거나 같고, 2,000,000,000보다 작거나 같은 자연수이다. F는 100보다 작거나 같은 자연수이다.\n",
    "\n"
   ]
  },
  {
   "cell_type": "code",
   "execution_count": 122,
   "id": "d59c0867",
   "metadata": {},
   "outputs": [
    {
     "name": "stdout",
     "output_type": "stream",
     "text": [
      "428392\n",
      "17\n"
     ]
    }
   ],
   "source": [
    "n = input()\n",
    "f = int(input())\n",
    "_s = int(n) % f\n",
    "n = int(n[:-2] + \"00\")"
   ]
  },
  {
   "cell_type": "code",
   "execution_count": 127,
   "id": "1fc4d93b",
   "metadata": {},
   "outputs": [
    {
     "name": "stdout",
     "output_type": "stream",
     "text": [
      "1\n"
     ]
    }
   ],
   "source": [
    "_f = f\n",
    "i = -1\n",
    "ans = []\n",
    "while _f < 100:\n",
    "    i += 1\n",
    "    _f = f * i\n",
    "    _n = str(n - _s + _f)\n",
    "    if str(n)[-3] == _n[-3]: ans.append(int(_n[-2:]))\n",
    "\n",
    "if ans: print(1)\n",
    "else: print(2)"
   ]
  },
  {
   "cell_type": "code",
   "execution_count": 128,
   "id": "d5e96171",
   "metadata": {},
   "outputs": [
    {
     "data": {
      "text/plain": [
       "8"
      ]
     },
     "execution_count": 128,
     "metadata": {},
     "output_type": "execute_result"
    }
   ],
   "source": [
    "min(ans)"
   ]
  },
  {
   "cell_type": "code",
   "execution_count": 129,
   "id": "eaa23bd4",
   "metadata": {},
   "outputs": [
    {
     "data": {
      "text/plain": [
       "'3'"
      ]
     },
     "execution_count": 129,
     "metadata": {},
     "output_type": "execute_result"
    }
   ],
   "source": [
    "str(n)[-3]"
   ]
  },
  {
   "cell_type": "code",
   "execution_count": 130,
   "id": "7b8b2d56",
   "metadata": {},
   "outputs": [
    {
     "data": {
      "text/plain": [
       "[8, 25, 42, 59, 76, 93]"
      ]
     },
     "execution_count": 130,
     "metadata": {},
     "output_type": "execute_result"
    }
   ],
   "source": [
    "ans"
   ]
  },
  {
   "cell_type": "code",
   "execution_count": 101,
   "id": "85f298bb",
   "metadata": {},
   "outputs": [
    {
     "data": {
      "text/plain": [
       "23475"
      ]
     },
     "execution_count": 101,
     "metadata": {},
     "output_type": "execute_result"
    }
   ],
   "source": [
    "(n - (n % f) + f)"
   ]
  },
  {
   "cell_type": "code",
   "execution_count": 106,
   "id": "9f19a75d",
   "metadata": {},
   "outputs": [
    {
     "data": {
      "text/plain": [
       "0"
      ]
     },
     "execution_count": 106,
     "metadata": {},
     "output_type": "execute_result"
    }
   ],
   "source": [
    "n % f"
   ]
  },
  {
   "cell_type": "code",
   "execution_count": 108,
   "id": "e266e2a7",
   "metadata": {},
   "outputs": [
    {
     "data": {
      "text/plain": [
       "42"
      ]
     },
     "execution_count": 108,
     "metadata": {},
     "output_type": "execute_result"
    }
   ],
   "source": [
    "_s"
   ]
  },
  {
   "cell_type": "code",
   "execution_count": null,
   "id": "eafd4830",
   "metadata": {},
   "outputs": [],
   "source": []
  }
 ],
 "metadata": {
  "kernelspec": {
   "display_name": "Python 3 (ipykernel)",
   "language": "python",
   "name": "python3"
  },
  "language_info": {
   "codemirror_mode": {
    "name": "ipython",
    "version": 3
   },
   "file_extension": ".py",
   "mimetype": "text/x-python",
   "name": "python",
   "nbconvert_exporter": "python",
   "pygments_lexer": "ipython3",
   "version": "3.9.7"
  }
 },
 "nbformat": 4,
 "nbformat_minor": 5
}
