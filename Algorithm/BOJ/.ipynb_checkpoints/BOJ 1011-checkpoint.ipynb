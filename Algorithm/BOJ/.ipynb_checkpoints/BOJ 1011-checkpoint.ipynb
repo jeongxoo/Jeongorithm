{
 "cells": [
  {
   "cell_type": "markdown",
   "id": "cd7db83c",
   "metadata": {},
   "source": [
    "## 문제 해결 아이디어"
   ]
  },
  {
   "cell_type": "markdown",
   "id": "0dc42dc9",
   "metadata": {},
   "source": [
    "- 결국 최단 거리로 가기 위해서는\n",
    "- 첫번째는 1이어야하고\n",
    "- 그 다음부터는 n, n-1, n-2, n-3 ---, 3, 2, 1 순으로 가는 것이 가장 효율적"
   ]
  },
  {
   "cell_type": "markdown",
   "id": "44bbac87",
   "metadata": {},
   "source": [
    "```\n",
    "x = 현재 남은 거리\n",
    "y = 총 거리\n",
    "z = 직전에 이동한 양\n",
    "```\n",
    "- x == sum(1~z) -> 결과 반환\n",
    "- x > sum(1~z) -> z + 1 만큼 더 이동\n",
    "- x < sum(1~z) -> z - 1 만큼 더 이동 // 이부분은 다를지도"
   ]
  },
  {
   "cell_type": "code",
   "execution_count": 7,
   "id": "447fd388",
   "metadata": {},
   "outputs": [],
   "source": [
    "hab = lambda x: sum([i for i in range(x + 1)])"
   ]
  },
  {
   "cell_type": "code",
   "execution_count": 88,
   "id": "ab3ec4f2",
   "metadata": {},
   "outputs": [],
   "source": [
    "x, y = 1, 5"
   ]
  },
  {
   "cell_type": "code",
   "execution_count": 81,
   "id": "9aa13da2",
   "metadata": {},
   "outputs": [],
   "source": [
    "x, y = 45, 50"
   ]
  },
  {
   "cell_type": "code",
   "execution_count": 99,
   "id": "40560195",
   "metadata": {},
   "outputs": [],
   "source": [
    "x, y = 0, 7"
   ]
  },
  {
   "cell_type": "code",
   "execution_count": 100,
   "id": "013aae92",
   "metadata": {},
   "outputs": [],
   "source": [
    "move = 1\n",
    "count = 1\n",
    "left = (y - x) - move"
   ]
  },
  {
   "cell_type": "code",
   "execution_count": 97,
   "id": "d587b381",
   "metadata": {},
   "outputs": [
    {
     "name": "stdout",
     "output_type": "stream",
     "text": [
      "6 1\n",
      "4 2 2\n",
      "1 3 2\n",
      "-1 2 2\n",
      "-2 1 2\n",
      "-2 0 2\n",
      "-1 -1 2\n",
      "1 -2 2\n",
      "2 -1 2\n",
      "2 0 2\n",
      "1 1 2\n",
      "1 1 1\n"
     ]
    }
   ],
   "source": [
    "print(left,move)\n",
    "while left != 0:\n",
    "    if hab(move) == left:\n",
    "        count += move\n",
    "        print(left ,move, 1)\n",
    "        break\n",
    "    elif hab(move) < left:\n",
    "        move += 1\n",
    "        count += 1\n",
    "    else:\n",
    "        move -= 1\n",
    "        count += 1\n",
    "    \n",
    "    if left == move and move != 1: move -= 1\n",
    "\n",
    "    left -= move\n",
    "    print(left, move, 2)"
   ]
  },
  {
   "cell_type": "code",
   "execution_count": 98,
   "id": "46780f7a",
   "metadata": {},
   "outputs": [
    {
     "data": {
      "text/plain": [
       "12"
      ]
     },
     "execution_count": 98,
     "metadata": {},
     "output_type": "execute_result"
    }
   ],
   "source": [
    "count"
   ]
  },
  {
   "cell_type": "code",
   "execution_count": null,
   "id": "7f8a2fcc",
   "metadata": {},
   "outputs": [],
   "source": []
  }
 ],
 "metadata": {
  "kernelspec": {
   "display_name": "Python 3 (ipykernel)",
   "language": "python",
   "name": "python3"
  },
  "language_info": {
   "codemirror_mode": {
    "name": "ipython",
    "version": 3
   },
   "file_extension": ".py",
   "mimetype": "text/x-python",
   "name": "python",
   "nbconvert_exporter": "python",
   "pygments_lexer": "ipython3",
   "version": "3.9.7"
  }
 },
 "nbformat": 4,
 "nbformat_minor": 5
}
