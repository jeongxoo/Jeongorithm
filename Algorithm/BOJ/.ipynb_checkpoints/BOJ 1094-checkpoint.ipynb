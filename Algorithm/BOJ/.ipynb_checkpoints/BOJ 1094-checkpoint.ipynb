{
 "cells": [
  {
   "cell_type": "code",
   "execution_count": 28,
   "id": "dbb3dd0f",
   "metadata": {},
   "outputs": [],
   "source": [
    "from collections import deque"
   ]
  },
  {
   "cell_type": "code",
   "execution_count": 109,
   "id": "e33c78cd",
   "metadata": {},
   "outputs": [
    {
     "name": "stdout",
     "output_type": "stream",
     "text": [
      "48\n",
      "2\n"
     ]
    }
   ],
   "source": [
    "x = int(input())\n",
    "sticks = deque([64])\n",
    "_length = sum(sticks)\n",
    "while _length > x:\n",
    "    half = sticks.popleft() / 2\n",
    "    sticks.insert(0, half)\n",
    "    \n",
    "    if sum(sticks) < x: sticks.insert(0, half)\n",
    "    _length = sum(sticks)\n",
    "    \n",
    "print(len(sticks))"
   ]
  },
  {
   "cell_type": "code",
   "execution_count": 110,
   "id": "34604515",
   "metadata": {},
   "outputs": [
    {
     "data": {
      "text/plain": [
       "deque([16.0, 32.0])"
      ]
     },
     "execution_count": 110,
     "metadata": {},
     "output_type": "execute_result"
    }
   ],
   "source": [
    "sticks"
   ]
  },
  {
   "cell_type": "code",
   "execution_count": null,
   "id": "670f121d",
   "metadata": {},
   "outputs": [],
   "source": []
  }
 ],
 "metadata": {
  "kernelspec": {
   "display_name": "Python 3 (ipykernel)",
   "language": "python",
   "name": "python3"
  },
  "language_info": {
   "codemirror_mode": {
    "name": "ipython",
    "version": 3
   },
   "file_extension": ".py",
   "mimetype": "text/x-python",
   "name": "python",
   "nbconvert_exporter": "python",
   "pygments_lexer": "ipython3",
   "version": "3.9.7"
  }
 },
 "nbformat": 4,
 "nbformat_minor": 5
}
