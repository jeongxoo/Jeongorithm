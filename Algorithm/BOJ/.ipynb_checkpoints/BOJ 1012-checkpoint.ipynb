{
 "cells": [
  {
   "cell_type": "code",
   "execution_count": 179,
   "id": "f4b4f5a1",
   "metadata": {},
   "outputs": [
    {
     "ename": "SyntaxError",
     "evalue": "invalid syntax (495497730.py, line 1)",
     "output_type": "error",
     "traceback": [
      "\u001b[0;36m  File \u001b[0;32m\"/var/folders/5v/vp7_v45s7pj122z7d82mm5d40000gn/T/ipykernel_14064/495497730.py\"\u001b[0;36m, line \u001b[0;32m1\u001b[0m\n\u001b[0;31m    0 0 0 1 0 4 0 10 1 2 1 7 1 10 1 12 1 13 2 2 2 3 2 7 3 2 3 4 3 6 3 8 3 11 3 14 4 0 4 1 4 2 4 5 4 6 4 7 4 8 4 11 4 12 4 14 5 0 5 2 5 4 5 7 5 8 5 10 5 11 5 13 5 14 6 5 6 10 6 12 6 13 6 14 7 1 7 9 7 12 7 13 8 2 8 4 8 8 8 9 8 12 8 13 9 0 9 3 9 5 9 11 10 2 10 3 10 5 10 9 10 10 11 8 11 9 11 11 11 12 11 13 12 3 12 13 12 14 13 1 13 4 13 7 13 9 13 10 13 13 14 0 14 5 14 7 14 8 14 13\u001b[0m\n\u001b[0m      ^\u001b[0m\n\u001b[0;31mSyntaxError\u001b[0m\u001b[0;31m:\u001b[0m invalid syntax\n"
     ]
    }
   ],
   "source": [
    "0 0 0 1 0 4 0 10 1 2 1 7 1 10 1 12 1 13 2 2 2 3 2 7 3 2 3 4 3 6 3 8 3 11 3 14 4 0 4 1 4 2 4 5 4 6 4 7 4 8 4 11 4 12 4 14 5 0 5 2 5 4 5 7 5 8 5 10 5 11 5 13 5 14 6 5 6 10 6 12 6 13 6 14 7 1 7 9 7 12 7 13 8 2 8 4 8 8 8 9 8 12 8 13 9 0 9 3 9 5 9 11 10 2 10 3 10 5 10 9 10 10 11 8 11 9 11 11 11 12 11 13 12 3 12 13 12 14 13 1 13 4 13 7 13 9 13 10 13 13 14 0 14 5 14 7 14 8 14 13\n",
    "0 0 0 1 0 4 0 10 1 2 1 7 1 10 1 12 1 13 2 2 2 3 2 7 3 2 3 4 3 6 3 8 3 11 3 14 4 0 4 1 4 2 4 5 4 6 4 7 4 8 4 11 4 12 4 14 5 0 5 2 5 4 5 7 5 8 5 10 5 11 5 13 5 14\n",
    "0 3\n",
    "0 12\n",
    "1 12\n",
    "1 14\n",
    "2 1\n",
    "2 10\n",
    "2 11\n",
    "3 6\n",
    "4 1\n",
    "5 4\n",
    "6 10\n",
    "6 13\n",
    "7 7\n",
    "9 3\n",
    "9 4\n",
    "10 3\n",
    "10 10\n",
    "10 11\n",
    "12 1\n",
    "12 9\n",
    "14 14"
   ]
  },
  {
   "cell_type": "code",
   "execution_count": 75,
   "id": "4b59805c",
   "metadata": {},
   "outputs": [
    {
     "data": {
      "text/plain": [
       "74"
      ]
     },
     "execution_count": 75,
     "metadata": {},
     "output_type": "execute_result"
    }
   ],
   "source": [
    "aa = \"0 0 0 1 0 4 0 10 1 2 1 7 1 10 1 12 1 13 2 2 2 3 2 7 3 2 3 4 3 6 3 8 3 11 3 14 4 0 4 1 4 2 4 5 4 6 4 7 4 8 4 11 4 12 4 14 5 0 5 2 5 4 5 7 5 8 5 10 5 11 5 13 5 14\"\n",
    "len(aa.split())"
   ]
  },
  {
   "cell_type": "code",
   "execution_count": 81,
   "id": "e37a4a33",
   "metadata": {
    "scrolled": true
   },
   "outputs": [
    {
     "name": "stdout",
     "output_type": "stream",
     "text": [
      "1\n",
      "15 15 37\n",
      "0 0 0 1 0 4 0 10 1 2 1 7 1 10 1 12 1 13 2 2 2 3 2 7 3 2 3 4 3 6 3 8 3 11 3 14 4 0 4 1 4 2 4 5 4 6 4 7 4 8 4 11 4 12 4 14 5 0 5 2 5 4 5 7 5 8 5 10 5 11 5 13 5 14\n",
      "[[0, 0], [[0, 1], '2']]\n",
      "[[0, 1], [[0, 0], '2']]\n",
      "[[0, 4]]\n",
      "[[0, 10], [[1, 10], '5']]\n",
      "[[1, 2], [[2, 2], '6']]\n",
      "[[1, 7], [[2, 7], '7']]\n",
      "[[1, 10], [[0, 10], '5']]\n",
      "[[1, 12], [[1, 13], '9']]\n",
      "[[1, 13], [[1, 12], '9']]\n",
      "[[2, 2], [[2, 3], '6'], [[3, 2], '6'], [[1, 2], '6']]\n",
      "[[2, 3], [[2, 2], '6']]\n",
      "[[2, 7], [[1, 7], '7']]\n",
      "[[3, 2], [[4, 2], '6'], [[2, 2], '6']]\n",
      "[[3, 4]]\n",
      "[[3, 6], [[4, 6], '@']]\n",
      "[[3, 8], [[4, 8], 'A']]\n",
      "[[3, 11], [[4, 11], 'B']]\n",
      "[[3, 14], [[4, 14], 'C']]\n",
      "[[4, 0], [[4, 1], 'D'], [[5, 0], 'D']]\n",
      "[[4, 1], [[4, 0], 'D'], [[4, 2], 'D']]\n",
      "[[4, 2], [[4, 1], 'D'], [[5, 2], 'D'], [[3, 2], 'D']]\n",
      "[[4, 5], [[4, 6], 'G']]\n",
      "[[4, 6], [[4, 5], 'G'], [[4, 7], 'G'], [[3, 6], 'G']]\n",
      "[[4, 7], [[4, 6], 'G'], [[4, 8], 'G'], [[5, 7], 'G']]\n",
      "[[4, 8], [[4, 7], 'G'], [[5, 8], 'G'], [[3, 8], 'G']]\n",
      "[[4, 11], [[4, 12], 'B'], [[5, 11], 'B'], [[3, 11], 'B']]\n",
      "[[4, 12], [[4, 11], 'B']]\n",
      "[[4, 14], [[5, 14], 'C'], [[3, 14], 'C']]\n",
      "[[5, 0], [[4, 0], 'D']]\n",
      "[[5, 2], [[4, 2], 'D']]\n",
      "[[5, 4]]\n",
      "[[5, 7], [[5, 8], 'G'], [[4, 7], 'G']]\n",
      "[[5, 8], [[5, 7], 'G'], [[4, 8], 'G']]\n",
      "[[5, 10], [[5, 11], 'S']]\n",
      "[[5, 11], [[5, 10], 'S'], [[4, 11], 'S']]\n",
      "[[5, 13], [[5, 14], 'U']]\n",
      "[[5, 14], [[5, 13], 'U'], [[4, 14], 'U']]\n",
      "14\n"
     ]
    }
   ],
   "source": [
    "t = int(input())\n",
    "for _ in range(t):\n",
    "    m, n, k = map(int, input().split())\n",
    "#     kp = [list(map(int, input().split())) for _ in range(k)]\n",
    "    kp = list(map(int, input().split()))\n",
    "    kp = [[kp[i], kp[i+1]] for i in range(len(kp) - 1)]\n",
    "    kp = kp[::2]\n",
    "    kp.sort()\n",
    "    \n",
    "    k_label = [i for i in range(k)]\n",
    "\n",
    "    for i in range(len(kp)):\n",
    "        key = k_label[i]\n",
    "        x, y = kp[i][0], kp[i][1]\n",
    "\n",
    "        pos = [[x, y - 1], [x, y + 1], [x + 1, y], [x - 1, y]]\n",
    "        ans = [[x,y]]\n",
    "        for ps in pos:                \n",
    "            if ps in kp:\n",
    "#                 key = k_label[kp.index(ps)]\n",
    "                ans.append([ps,chr(key+50)])\n",
    "                k_label[kp.index(ps)] = key\n",
    "        print(ans)\n",
    "\n",
    "    print(len(set(k_label)))"
   ]
  },
  {
   "cell_type": "markdown",
   "id": "b8847456",
   "metadata": {},
   "source": [
    "알고리즘 수정 필요\n",
    "- 가지치기 형태로 가자"
   ]
  },
  {
   "cell_type": "markdown",
   "id": "d5efea6e",
   "metadata": {},
   "source": [
    "## 정답 부분"
   ]
  },
  {
   "cell_type": "code",
   "execution_count": 95,
   "id": "cb5fb264",
   "metadata": {},
   "outputs": [],
   "source": [
    "def marking(kp, ap, k_label, position, key):\n",
    "    x, y = position[0], position[1]\n",
    "    pos = [[x, y - 1], [x, y + 1], [x + 1, y], [x - 1, y]]\n",
    "    \n",
    "    for ps in pos:                \n",
    "        if ps in kp: \n",
    "            k_label[ap.index(ps)] = key\n",
    "            ps = kp.pop(kp.index(ps))\n",
    "            marking(kp, ap, k_label, ps, key)"
   ]
  },
  {
   "cell_type": "code",
   "execution_count": 102,
   "id": "73432a2a",
   "metadata": {
    "scrolled": true
   },
   "outputs": [
    {
     "name": "stdout",
     "output_type": "stream",
     "text": [
      "1\n",
      "5 3 6\n",
      "0 2\n",
      "1 2\n",
      "2 2\n",
      "3 2\n",
      "4 2\n",
      "4 0\n",
      "2\n"
     ]
    }
   ],
   "source": [
    "import sys\n",
    "sys.setrecursionlimit(10**6)\n",
    "\n",
    "t = int(input())\n",
    "for _ in range(t):\n",
    "    m, n, k = map(int, input().split())\n",
    "    kp = [list(map(int, input().split())) for _ in range(k)]\n",
    "#     kp = list(map(int, input().split()))\n",
    "#     kp = [kp[i], kp[i+1] for i in range(len(kp) - 1)]\n",
    "#     kp = kp[::2]\n",
    "    kp.sort()\n",
    "    \n",
    "    k_label = [i for i in range(k)]\n",
    "\n",
    "    ap = tuple(kp)\n",
    "    count = 0\n",
    "    while len(kp) != 0:\n",
    "        _p = kp.pop(0)\n",
    "        key = k_label[ap.index(_p)]\n",
    "        marking(kp, ap, k_label, _p, key)\n",
    "        count += 1\n",
    "    print(len(set(k_label)))\n",
    "#     draw(m, n, k_label, ap)"
   ]
  },
  {
   "cell_type": "code",
   "execution_count": 101,
   "id": "493c3e55",
   "metadata": {},
   "outputs": [
    {
     "data": {
      "text/plain": [
       "[[[2, 2], [3, 2]], [[4, 2], [4, 0]]]"
      ]
     },
     "execution_count": 101,
     "metadata": {},
     "output_type": "execute_result"
    }
   ],
   "source": [
    "kp"
   ]
  },
  {
   "cell_type": "code",
   "execution_count": 53,
   "id": "fc676aea",
   "metadata": {},
   "outputs": [],
   "source": [
    "def change(d):\n",
    "    return chr(d+50)"
   ]
  },
  {
   "cell_type": "code",
   "execution_count": 55,
   "id": "5e376fd2",
   "metadata": {},
   "outputs": [],
   "source": [
    "def draw(m, n, k_label, ap):\n",
    "    for i in range(m):\n",
    "        for j in range(n):\n",
    "            if [i, j] in ap:\n",
    "                print(change(k_label[ap.index([i,j])]), end = \" \")\n",
    "            else:\n",
    "                print(\".\", end = \" \")\n",
    "        print()"
   ]
  },
  {
   "cell_type": "code",
   "execution_count": 207,
   "id": "56a3c5d1",
   "metadata": {},
   "outputs": [
    {
     "name": "stdout",
     "output_type": "stream",
     "text": [
      "2 2 . . 4 . . . . . 5 . . . . \n",
      ". . 6 . . . . 7 . . 5 . 9 9 . \n",
      ". . 6 6 . . . 7 . . . . . . . \n",
      ". . D . ? . G . G . . B . . C \n",
      "D D D . . G G G G . . S B . U \n",
      "D . D . P . . G G . S S . U U \n"
     ]
    }
   ],
   "source": [
    "for i in range(m):\n",
    "    for j in range(n):\n",
    "        if [i, j] in ap:\n",
    "            print(change(k_label[ap.index([i,j])]), end = \" \")\n",
    "        else:\n",
    "            print(\".\", end = \" \")\n",
    "    print()"
   ]
  },
  {
   "cell_type": "code",
   "execution_count": 141,
   "id": "8699db97",
   "metadata": {},
   "outputs": [
    {
     "name": "stdout",
     "output_type": "stream",
     "text": [
      "16\n"
     ]
    }
   ],
   "source": [
    "for i in range(len(kp)):\n",
    "    key = k_label[i]\n",
    "    p = kp.pop(0)\n",
    "    x, y = p[0], p[1]\n",
    "\n",
    "    \n",
    "    pos = [[x, y - 1], [x, y + 1], [x + 1, y], [x - 1, y]]\n",
    "\n",
    "    for ps in pos:\n",
    "        if ps in kp:\n",
    "            k_label[ap.index(ps)] = key\n",
    "\n",
    "print(len(set(k_label)))"
   ]
  },
  {
   "cell_type": "code",
   "execution_count": null,
   "id": "0cc6acbf",
   "metadata": {},
   "outputs": [],
   "source": []
  }
 ],
 "metadata": {
  "kernelspec": {
   "display_name": "Python 3 (ipykernel)",
   "language": "python",
   "name": "python3"
  },
  "language_info": {
   "codemirror_mode": {
    "name": "ipython",
    "version": 3
   },
   "file_extension": ".py",
   "mimetype": "text/x-python",
   "name": "python",
   "nbconvert_exporter": "python",
   "pygments_lexer": "ipython3",
   "version": "3.9.7"
  }
 },
 "nbformat": 4,
 "nbformat_minor": 5
}
