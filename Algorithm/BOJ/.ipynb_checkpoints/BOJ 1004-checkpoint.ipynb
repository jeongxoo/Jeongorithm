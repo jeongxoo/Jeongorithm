{
 "cells": [
  {
   "cell_type": "code",
   "execution_count": 1,
   "id": "c3f8d740",
   "metadata": {},
   "outputs": [],
   "source": [
    "x1, y1, x2, y2 = -5, 1, 12, 1\n",
    "planets = [\n",
    "    [1, 1, 8],\n",
    "    [-3, -1, 1],\n",
    "    [2, 2, 2],\n",
    "    [5, 5, 1],\n",
    "    [-4, 5, 1],\n",
    "    [12, 1, 1],\n",
    "    [12, 1, 2]\n",
    "]"
   ]
  },
  {
   "cell_type": "markdown",
   "id": "1b135d2d",
   "metadata": {},
   "source": [
    "## 문제 풀이 아이디어\n",
    "- 행성 궤도 범위 내에 시작점이 포함되어 있는지 파악\n",
    "- 포함되어 있지 않다면 -> 도착점을 감싸고 있는 원의 개수만 파악하면됨\n",
    "- 포함되어 있다면 -> 포함된 애들 중 가장 작은 녀석 파악, 그 안에 도착점 있나?\n",
    "- 도착점 있으면 -> 0\n",
    "- 도착점 없으면 -> += 1\n",
    "- 하나의 원을 나간것으로 처리, 해당 원을 목록에서 제거하고\n",
    "- 아이디어 2번째 줄로 가서 반복 처리"
   ]
  },
  {
   "cell_type": "code",
   "execution_count": null,
   "id": "5746d536",
   "metadata": {},
   "outputs": [],
   "source": []
  }
 ],
 "metadata": {
  "kernelspec": {
   "display_name": "Python 3 (ipykernel)",
   "language": "python",
   "name": "python3"
  },
  "language_info": {
   "codemirror_mode": {
    "name": "ipython",
    "version": 3
   },
   "file_extension": ".py",
   "mimetype": "text/x-python",
   "name": "python",
   "nbconvert_exporter": "python",
   "pygments_lexer": "ipython3",
   "version": "3.9.7"
  }
 },
 "nbformat": 4,
 "nbformat_minor": 5
}
