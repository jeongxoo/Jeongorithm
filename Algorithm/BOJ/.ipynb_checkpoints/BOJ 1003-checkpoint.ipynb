{
 "cells": [
  {
   "cell_type": "markdown",
   "id": "b12132a0",
   "metadata": {},
   "source": [
    "# 1003\n",
    "\n",
    "다음 소스는 N번째 피보나치 수를 구하는 C++ 함수이다.\n",
    "```\n",
    "int fibonacci(int n) {\n",
    "    if (n == 0) {\n",
    "        printf(\"0\");\n",
    "        return 0;\n",
    "    } else if (n == 1) {\n",
    "        printf(\"1\");\n",
    "        return 1;\n",
    "    } else {\n",
    "        return fibonacci(n‐1) + fibonacci(n‐2);\n",
    "    }\n",
    "}\n",
    "```\n",
    "\n",
    "fibonacci(3)을 호출하면 다음과 같은 일이 일어난다.\n",
    "   - fibonacci(3)은 fibonacci(2)와 fibonacci(1) (첫 번째 호출)을 호출한다.\n",
    "   - fibonacci(2)는 fibonacci(1) (두 번째 호출)과 fibonacci(0)을 호출한다.\n",
    "   - 두 번째 호출한 fibonacci(1)은 1을 출력하고 1을 리턴한다.\n",
    "   - fibonacci(0)은 0을 출력하고, 0을 리턴한다.\n",
    "   - fibonacci(2)는 fibonacci(1)과 fibonacci(0)의 결과를 얻고, 1을 리턴한다.\n",
    "   - 첫 번째 호출한 fibonacci(1)은 1을 출력하고, 1을 리턴한다.\n",
    "   - fibonacci(3)은 fibonacci(2)와 fibonacci(1)의 결과를 얻고, 2를 리턴한다.\n",
    "   \n",
    "   \n",
    "1은 2번 출력되고, 0은 1번 출력된다. N이 주어졌을 때, fibonacci(N)을 호출했을 때, 0과 1이 각각 몇 번 출력되는지 구하는 프로그램을 작성하시오."
   ]
  },
  {
   "cell_type": "markdown",
   "id": "bf96c609",
   "metadata": {},
   "source": [
    "## 입력\n",
    "첫째 줄에 테스트 케이스의 개수 T가 주어진다.\n",
    "\n",
    "각 테스트 케이스는 한 줄로 이루어져 있고, N이 주어진다. N은 40보다 작거나 같은 자연수 또는 0이다.\n",
    "\n",
    "\n",
    "## 출력\n",
    "\n",
    "각 테스트 케이스마다 0이 출력되는 횟수와 1이 출력되는 횟수를 공백으로 구분해서 출력한다.\n",
    "\n",
    "```\n",
    "입력   ->   출력\n",
    " 3\n",
    " 0    ->   1 0\n",
    " 1    ->   0 1\n",
    " 3    ->   1 2\n",
    "```"
   ]
  },
  {
   "cell_type": "markdown",
   "id": "04cb802a",
   "metadata": {},
   "source": []
  },
  {
   "cell_type": "code",
   "execution_count": 29,
   "id": "ad9a60e5",
   "metadata": {},
   "outputs": [],
   "source": [
    "def fibonacci(n, nums):\n",
    "    if n == 0 :\n",
    "        nums[\"0\"] += 1\n",
    "#         print(\"0\")\n",
    "        return 0\n",
    "    elif n == 1:\n",
    "        nums[\"1\"] += 1\n",
    "#         print(\"1\")\n",
    "        return 1\n",
    "    else:\n",
    "        return fibonacci(n - 1, nums) + fibonacci(n - 2, nums)"
   ]
  },
  {
   "cell_type": "code",
   "execution_count": 30,
   "id": "b18bda9c",
   "metadata": {
    "scrolled": false
   },
   "outputs": [
    {
     "name": "stdout",
     "output_type": "stream",
     "text": [
      "10\n",
      "1 0\n",
      "0 1\n",
      "1 1\n",
      "1 2\n",
      "2 3\n",
      "3 5\n",
      "5 8\n",
      "8 13\n",
      "13 21\n",
      "21 34\n",
      "34 55\n",
      "55 89\n",
      "89 144\n",
      "144 233\n",
      "233 377\n",
      "377 610\n",
      "610 987\n",
      "987 1597\n",
      "1597 2584\n",
      "2584 4181\n",
      "4181 6765\n",
      "6765 10946\n",
      "10946 17711\n",
      "17711 28657\n",
      "28657 46368\n",
      "46368 75025\n",
      "75025 121393\n",
      "121393 196418\n",
      "196418 317811\n",
      "317811 514229\n",
      "514229 832040\n",
      "832040 1346269\n",
      "1346269 2178309\n",
      "2178309 3524578\n",
      "3524578 5702887\n",
      "5702887 9227465\n",
      "9227465 14930352\n",
      "14930352 24157817\n",
      "24157817 39088169\n",
      "39088169 63245986\n"
     ]
    }
   ],
   "source": [
    "count = int(input())\n",
    "for i in range(40):\n",
    "    nums = {\"0\":0, \"1\":0}\n",
    "    fibonacci(i, nums)\n",
    "    print(nums[\"0\"], nums[\"1\"])"
   ]
  },
  {
   "cell_type": "code",
   "execution_count": 90,
   "id": "71241ba9",
   "metadata": {},
   "outputs": [
    {
     "name": "stdout",
     "output_type": "stream",
     "text": [
      "[1, 0]\n",
      "[0, 1]\n",
      "[1, 1]\n",
      "[1, 2]\n",
      "[2, 3]\n",
      "[3, 5]\n",
      "[5, 8]\n",
      "[8, 13]\n",
      "[13, 21]\n",
      "[21, 34]\n",
      "[34, 55]\n",
      "[55, 89]\n",
      "[89, 144]\n",
      "[144, 233]\n",
      "[233, 377]\n",
      "[377, 610]\n",
      "[610, 987]\n",
      "[987, 1597]\n",
      "[1597, 2584]\n",
      "[2584, 4181]\n",
      "[4181, 6765]\n",
      "[6765, 10946]\n",
      "[10946, 17711]\n",
      "[17711, 28657]\n",
      "[28657, 46368]\n",
      "[46368, 75025]\n",
      "[75025, 121393]\n",
      "[121393, 196418]\n",
      "[196418, 317811]\n",
      "[317811, 514229]\n",
      "[514229, 832040]\n",
      "[832040, 1346269]\n",
      "[1346269, 2178309]\n",
      "[2178309, 3524578]\n",
      "[3524578, 5702887]\n",
      "[5702887, 9227465]\n",
      "[9227465, 14930352]\n",
      "[14930352, 24157817]\n",
      "[24157817, 39088169]\n",
      "[39088169, 63245986]\n",
      "[63245986, 102334155]\n"
     ]
    }
   ],
   "source": [
    "answers = [[1,0],[0,1]]\n",
    "def _b(n):\n",
    "    l = len(answers)\n",
    "    if l >= n + 1:\n",
    "        return answers[n]\n",
    "    else:\n",
    "        nn = _b(n - 1) + _b(n - 2)\n",
    "        jj = [sum(nn[0::2]), sum(nn[1::2])]\n",
    "        answers.append(jj)\n",
    "        \n",
    "for i in range(41):\n",
    "    _b(i)\n",
    "    \n",
    "# count = int(input())\n",
    "# for _ in range(count):\n",
    "#     i = int(input())\n",
    "#     print(answers[i])\n",
    "\n",
    "for i in range(41):\n",
    "    print(answers[i])"
   ]
  },
  {
   "cell_type": "markdown",
   "id": "f2f87ba4",
   "metadata": {},
   "source": [
    "# Original DP"
   ]
  },
  {
   "cell_type": "code",
   "execution_count": 1,
   "id": "26b09083",
   "metadata": {},
   "outputs": [
    {
     "name": "stdout",
     "output_type": "stream",
     "text": [
      "3\n",
      "4\n",
      "2 3\n",
      "4\n",
      "2 3\n",
      "4\n",
      "2 3\n"
     ]
    }
   ],
   "source": [
    "answers = [[1,0],[0,1]]\n",
    "def dp(n)\n",
    "    if n == 0:\n",
    "        return answers[0]\n",
    "    elif n == 1:\n",
    "        return answers[1]\n",
    "    else:\n",
    "        answers[n - 1]\n",
    "    \n",
    "    l = len(answers)\n",
    "    if l >= n + 1:\n",
    "        return answers[n]\n",
    "    else:\n",
    "        nn = _b(n - 1) + _b(n - 2)\n",
    "        jj = [sum(nn[0::2]), sum(nn[1::2])]\n",
    "        answers.append(jj)\n",
    "        \n",
    "        \n",
    "        \n",
    "        \n",
    "for i in range(41):\n",
    "    _b(i)\n",
    "    \n",
    "count = int(input())\n",
    "for _ in range(count):\n",
    "    i = int(input())\n",
    "    print(answers[i][0], answers[i][1])"
   ]
  },
  {
   "cell_type": "code",
   "execution_count": null,
   "id": "80ccfa5a",
   "metadata": {},
   "outputs": [],
   "source": []
  }
 ],
 "metadata": {
  "kernelspec": {
   "display_name": "Python 3 (ipykernel)",
   "language": "python",
   "name": "python3"
  },
  "language_info": {
   "codemirror_mode": {
    "name": "ipython",
    "version": 3
   },
   "file_extension": ".py",
   "mimetype": "text/x-python",
   "name": "python",
   "nbconvert_exporter": "python",
   "pygments_lexer": "ipython3",
   "version": "3.9.7"
  }
 },
 "nbformat": 4,
 "nbformat_minor": 5
}
