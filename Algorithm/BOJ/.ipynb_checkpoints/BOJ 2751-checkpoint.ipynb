{
 "cells": [
  {
   "cell_type": "code",
   "execution_count": 6,
   "id": "72c8a7fd",
   "metadata": {},
   "outputs": [
    {
     "name": "stdout",
     "output_type": "stream",
     "text": [
      "5\n",
      "5\n",
      "4\n",
      "3\n",
      "2\n",
      "1\n",
      "1\n",
      "2\n",
      "3\n",
      "4\n",
      "5\n"
     ]
    }
   ],
   "source": [
    "import sys\n",
    "nums = list(map(int, sys.stdin.readline().split()))\n",
    "nums = [1:]\n",
    "# nums = [int(input()) for i in range(n)]\n",
    "nums.sort()\n",
    "for ns in nums: print(ns)"
   ]
  },
  {
   "cell_type": "code",
   "execution_count": 4,
   "id": "aebd10d6",
   "metadata": {},
   "outputs": [],
   "source": [
    "import sys\n",
    "num = sys.stdin.readline()"
   ]
  },
  {
   "cell_type": "code",
   "execution_count": null,
   "id": "a4c2688d",
   "metadata": {},
   "outputs": [],
   "source": []
  }
 ],
 "metadata": {
  "kernelspec": {
   "display_name": "Python 3 (ipykernel)",
   "language": "python",
   "name": "python3"
  },
  "language_info": {
   "codemirror_mode": {
    "name": "ipython",
    "version": 3
   },
   "file_extension": ".py",
   "mimetype": "text/x-python",
   "name": "python",
   "nbconvert_exporter": "python",
   "pygments_lexer": "ipython3",
   "version": "3.9.7"
  }
 },
 "nbformat": 4,
 "nbformat_minor": 5
}
