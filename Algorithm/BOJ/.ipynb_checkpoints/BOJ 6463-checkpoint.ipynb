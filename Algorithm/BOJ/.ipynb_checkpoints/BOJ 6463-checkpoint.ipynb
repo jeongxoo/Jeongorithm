{
 "cells": [
  {
   "cell_type": "code",
   "execution_count": 33,
   "id": "b57abd9a",
   "metadata": {},
   "outputs": [],
   "source": [
    "ans = [1, 1]\n",
    "for i in range(2, 10001):\n",
    "    ans.append(ans[-1] * i)"
   ]
  },
  {
   "cell_type": "code",
   "execution_count": 38,
   "id": "6c6ecf99",
   "metadata": {},
   "outputs": [
    {
     "name": "stdout",
     "output_type": "stream",
     "text": [
      "1\n",
      "    1 -> 1\n",
      "2\n",
      "    2 -> 2\n",
      "26\n",
      "   26 -> 4\n",
      "125\n",
      "  125 -> 8\n",
      "3892\n",
      " 3892 -> 6\n",
      "9999\n",
      " 9999 -> 8\n",
      "10000\n",
      " 10000 -> 8\n",
      "11111\n"
     ]
    }
   ],
   "source": [
    "while 1:\n",
    "    n = int(input())\n",
    "    try:\n",
    "        num = str(ans[n]).replace(\"0\", \"\")[-1]\n",
    "        print(\" \" * (4 - len(str(n))), n, \"->\", num)\n",
    "    except: break"
   ]
  },
  {
   "cell_type": "code",
   "execution_count": null,
   "id": "9b8451dc",
   "metadata": {},
   "outputs": [],
   "source": []
  }
 ],
 "metadata": {
  "kernelspec": {
   "display_name": "Python 3 (ipykernel)",
   "language": "python",
   "name": "python3"
  },
  "language_info": {
   "codemirror_mode": {
    "name": "ipython",
    "version": 3
   },
   "file_extension": ".py",
   "mimetype": "text/x-python",
   "name": "python",
   "nbconvert_exporter": "python",
   "pygments_lexer": "ipython3",
   "version": "3.9.7"
  }
 },
 "nbformat": 4,
 "nbformat_minor": 5
}
