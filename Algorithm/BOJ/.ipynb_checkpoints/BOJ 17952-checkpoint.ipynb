{
 "cells": [
  {
   "cell_type": "code",
   "execution_count": 2,
   "id": "08914d39",
   "metadata": {},
   "outputs": [],
   "source": [
    "from collections import deque\n",
    "import sys"
   ]
  },
  {
   "cell_type": "markdown",
   "id": "f335f9a4",
   "metadata": {},
   "source": [
    "## 제출용 readline() 사용"
   ]
  },
  {
   "cell_type": "code",
   "execution_count": null,
   "id": "fc3074da",
   "metadata": {},
   "outputs": [],
   "source": [
    "current = deque()\n",
    "score = 0\n",
    "\n",
    "for _ in range(int(sys.stdin.readline())):\n",
    "    if current and current[0][2] == 0: score += current.popleft()[1]\n",
    "        \n",
    "    check = list(map(int, sys.stdin.readline().split()))\n",
    "    if check[0] == 1: current.insert(0, check[:2] + [check[2] - 1])\n",
    "    else: \n",
    "        if current: current[0][2] -= 1\n",
    "        \n",
    "if current and current[0][2] == 0: score += current.popleft()[1]\n",
    "        \n",
    "print(score)"
   ]
  },
  {
   "cell_type": "markdown",
   "id": "47bb4b95",
   "metadata": {},
   "source": [
    "## 테스트용 input() 사용"
   ]
  },
  {
   "cell_type": "code",
   "execution_count": 3,
   "id": "9497bdb5",
   "metadata": {},
   "outputs": [
    {
     "name": "stdout",
     "output_type": "stream",
     "text": [
      "3\n",
      "1 100 3\n",
      "0\n",
      "0\n",
      "100\n"
     ]
    }
   ],
   "source": [
    "current = deque()\n",
    "score = 0\n",
    "\n",
    "for _ in range(int(input())):\n",
    "    if current and current[0][2] == 0: score += current.popleft()[1]\n",
    "        \n",
    "    check = list(map(int, input().split()))\n",
    "    if check[0] == 1: current.insert(0, check[:2] + [check[2] - 1])\n",
    "    else: \n",
    "        if current: current[0][2] -= 1\n",
    "        \n",
    "if current and current[0][2] == 0: score += current.popleft()[1]\n",
    "        \n",
    "print(score)"
   ]
  },
  {
   "cell_type": "code",
   "execution_count": null,
   "id": "eaabe117",
   "metadata": {},
   "outputs": [],
   "source": []
  }
 ],
 "metadata": {
  "kernelspec": {
   "display_name": "Python 3 (ipykernel)",
   "language": "python",
   "name": "python3"
  },
  "language_info": {
   "codemirror_mode": {
    "name": "ipython",
    "version": 3
   },
   "file_extension": ".py",
   "mimetype": "text/x-python",
   "name": "python",
   "nbconvert_exporter": "python",
   "pygments_lexer": "ipython3",
   "version": "3.9.7"
  }
 },
 "nbformat": 4,
 "nbformat_minor": 5
}
